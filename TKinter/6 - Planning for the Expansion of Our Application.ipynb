{
 "cells": [
  {
   "cell_type": "markdown",
   "metadata": {},
   "source": [
    "# Cap 6 - Planning for the Expansion of Our Application"
   ]
  },
  {
   "cell_type": "markdown",
   "metadata": {},
   "source": [
    "### Book Python GUI Programming with Tkinter  \n",
    "## Alan D. Moore"
   ]
  },
  {
   "cell_type": "markdown",
   "metadata": {},
   "source": [
    "## The MVC Pattern"
   ]
  },
  {
   "cell_type": "markdown",
   "metadata": {},
   "source": [
    "![](imagens/MVC.png)"
   ]
  },
  {
   "cell_type": "markdown",
   "metadata": {},
   "source": [
    "#### Model \n",
    "Representa os dados, incluindo o armazenamento dos dados e as maneiras pelas quais os dados podem ser consultados ou manipulados. O modelo não é afetado por como os dados serão apresentados.\n",
    "Em teoria, se você decidir mudar completamente a interface de usuário do programa o modelo não deve ser totalmente afetado. \n",
    "Alguns exemplos de funcionalidades ou informações que você encontra no modelo incluem:\n",
    "- Preparação e salvamento do programa.\n",
    "- Recuperação dos dados. \n",
    "- Validação dos dados em relação os tipos de dadso e limites definidos.\n",
    "- Cálculos em dados armazenados. "
   ]
  },
  {
   "cell_type": "markdown",
   "metadata": {},
   "source": [
    "#### View\n",
    "É uma interface para apresentar dados e controles ao usuário. \n",
    "Alguns exemplos: \n",
    "- Layout GUI e definições de widget.\n",
    "- Automação de formulário, como preenchimento automático de camposm alternância dinâmica de widgets ou exibição de diálogos de erro. \n",
    "- Formatação de dados brutos para apresentação. "
   ]
  },
  {
   "cell_type": "markdown",
   "metadata": {},
   "source": [
    "#### Controller\n",
    "Lida com solicitações do usuário e cuida do roteamento de dados entre as visualizações e o modelo. Haje como intermediário.\n",
    "Alguns exemplos: \n",
    "- Lógica de inicialização e deseligamento para o aplicativo. \n",
    "- Callbacks para eventos de interface do usuário. \n",
    "- Criação de instância de modelo e visualização. "
   ]
  },
  {
   "cell_type": "markdown",
   "metadata": {},
   "source": [
    "#### README file\n",
    "- **Description:** Uma breve descrição do programa e sua função.\n",
    "- **Author information:** Os nomes dos autores e a data dos direitos autorais. \n",
    "- **Requirements:** Uma lista dos requisitos de software. \n",
    "- **Installation:** Instrução para instalação do software, seus pré-requisitos, dependências. \n",
    "- **Configuration:** Como configurar o aplicativo e quais opções estão disponíveis.\n",
    "- **Usage:** Uma descrição de como iniciar o aplicativo, argumentos de linha de comando e outras notas que um usuário precisaria. \n",
    "- **General Notes:** Um resumo para notas ou informações críticas que os usuários devem conhecer. \n",
    "- **Bugs:** Uma lista de bugs ou limitações conhecidos no aplicativo."
   ]
  }
 ],
 "metadata": {
  "kernelspec": {
   "display_name": "Python 3.9.9 64-bit",
   "language": "python",
   "name": "python3"
  },
  "language_info": {
   "codemirror_mode": {
    "name": "ipython",
    "version": 3
   },
   "file_extension": ".py",
   "mimetype": "text/x-python",
   "name": "python",
   "nbconvert_exporter": "python",
   "pygments_lexer": "ipython3",
   "version": "3.9.9"
  },
  "orig_nbformat": 4,
  "vscode": {
   "interpreter": {
    "hash": "e7370f93d1d0cde622a1f8e1c04877d8463912d04d973331ad4851f04de6915a"
   }
  }
 },
 "nbformat": 4,
 "nbformat_minor": 2
}
