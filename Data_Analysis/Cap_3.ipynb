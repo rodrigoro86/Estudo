{
 "cells": [
  {
   "cell_type": "markdown",
   "id": "61758803",
   "metadata": {},
   "source": [
    "# Capítulo 3. Bult-in Data Structures, Functions and Files"
   ]
  },
  {
   "cell_type": "markdown",
   "id": "6649a14a",
   "metadata": {},
   "source": [
    "# Tuple \n",
    "Tupla é imutável, não é possível adicionar ou remover os dados "
   ]
  },
  {
   "cell_type": "code",
   "execution_count": 2,
   "id": "97e8d3c5",
   "metadata": {},
   "outputs": [
    {
     "data": {
      "text/plain": [
       "(4, 5, 6)"
      ]
     },
     "execution_count": 2,
     "metadata": {},
     "output_type": "execute_result"
    }
   ],
   "source": [
    "tup = 4, 5, 6\n",
    "tup"
   ]
  },
  {
   "cell_type": "markdown",
   "id": "c7a60def",
   "metadata": {},
   "source": [
    "É possível criar tuplas dentro de tuplas"
   ]
  },
  {
   "cell_type": "code",
   "execution_count": 2,
   "id": "80db9d83",
   "metadata": {},
   "outputs": [
    {
     "data": {
      "text/plain": [
       "((1, 2, 4), (4, 5), (7, 8, 9))"
      ]
     },
     "execution_count": 2,
     "metadata": {},
     "output_type": "execute_result"
    }
   ],
   "source": [
    "tup1 = (1, 2, 4), (4, 5), (7, 8, 9)\n",
    "tup1"
   ]
  },
  {
   "cell_type": "markdown",
   "id": "cb41e5b3",
   "metadata": {},
   "source": [
    "Converter uma sequência em tupla"
   ]
  },
  {
   "cell_type": "code",
   "execution_count": 3,
   "id": "5058935b",
   "metadata": {},
   "outputs": [
    {
     "data": {
      "text/plain": [
       "('T', 'E', 's', 't', 'e')"
      ]
     },
     "execution_count": 3,
     "metadata": {},
     "output_type": "execute_result"
    }
   ],
   "source": [
    "tup_string = tuple('TEste')\n",
    "tup_string"
   ]
  },
  {
   "cell_type": "code",
   "execution_count": 4,
   "id": "e95577fd",
   "metadata": {},
   "outputs": [
    {
     "data": {
      "text/plain": [
       "'s'"
      ]
     },
     "execution_count": 4,
     "metadata": {},
     "output_type": "execute_result"
    }
   ],
   "source": [
    "tup_string[2]"
   ]
  },
  {
   "cell_type": "markdown",
   "id": "4948d595",
   "metadata": {},
   "source": [
    "A tupla é imutável não tem mudar um dado"
   ]
  },
  {
   "cell_type": "code",
   "execution_count": 4,
   "id": "b3509541",
   "metadata": {},
   "outputs": [
    {
     "ename": "TypeError",
     "evalue": "'tuple' object does not support item assignment",
     "output_type": "error",
     "traceback": [
      "\u001b[1;31m---------------------------------------------------------------------------\u001b[0m",
      "\u001b[1;31mTypeError\u001b[0m                                 Traceback (most recent call last)",
      "\u001b[1;32m<ipython-input-4-d3c66edcdf7f>\u001b[0m in \u001b[0;36m<module>\u001b[1;34m\u001b[0m\n\u001b[0;32m      1\u001b[0m \u001b[0mtup_errada\u001b[0m \u001b[1;33m=\u001b[0m \u001b[0mtuple\u001b[0m \u001b[1;33m(\u001b[0m\u001b[1;33m[\u001b[0m\u001b[1;34m'Teste'\u001b[0m\u001b[1;33m,\u001b[0m \u001b[1;33m[\u001b[0m\u001b[1;36m2\u001b[0m\u001b[1;33m,\u001b[0m \u001b[1;36m3\u001b[0m\u001b[1;33m,\u001b[0m \u001b[1;36m4\u001b[0m\u001b[1;33m]\u001b[0m\u001b[1;33m,\u001b[0m \u001b[1;32mTrue\u001b[0m\u001b[1;33m]\u001b[0m\u001b[1;33m)\u001b[0m\u001b[1;33m\u001b[0m\u001b[1;33m\u001b[0m\u001b[0m\n\u001b[1;32m----> 2\u001b[1;33m \u001b[0mtup_errada\u001b[0m\u001b[1;33m[\u001b[0m\u001b[1;36m2\u001b[0m\u001b[1;33m]\u001b[0m \u001b[1;33m=\u001b[0m \u001b[1;32mTrue\u001b[0m\u001b[1;33m\u001b[0m\u001b[1;33m\u001b[0m\u001b[0m\n\u001b[0m",
      "\u001b[1;31mTypeError\u001b[0m: 'tuple' object does not support item assignment"
     ]
    }
   ],
   "source": [
    "tup_errada = tuple (['Teste', [2, 3, 4], True])\n",
    "tup_errada[2] = True"
   ]
  },
  {
   "cell_type": "markdown",
   "id": "6cf87801",
   "metadata": {},
   "source": [
    "Para adicionar uma informação pode ser utilizado .append "
   ]
  },
  {
   "cell_type": "code",
   "execution_count": 6,
   "id": "bfe6fbb1",
   "metadata": {},
   "outputs": [
    {
     "data": {
      "text/plain": [
       "('Teste', [2, 3, 4, 7], True)"
      ]
     },
     "execution_count": 6,
     "metadata": {},
     "output_type": "execute_result"
    }
   ],
   "source": [
    "tup_errada[1].append(7)\n",
    "tup_errada"
   ]
  },
  {
   "cell_type": "markdown",
   "id": "f6746ba0",
   "metadata": {},
   "source": [
    "Como concatenar uma Tupla"
   ]
  },
  {
   "cell_type": "code",
   "execution_count": 7,
   "id": "b2f45a15",
   "metadata": {},
   "outputs": [
    {
     "data": {
      "text/plain": [
       "('T',\n",
       " 'E',\n",
       " 's',\n",
       " 't',\n",
       " 'e',\n",
       " 'Teste',\n",
       " [2, 3, 4, 7],\n",
       " True,\n",
       " 'Casa',\n",
       " 'Lar',\n",
       " [1, 3, 40313])"
      ]
     },
     "execution_count": 7,
     "metadata": {},
     "output_type": "execute_result"
    }
   ],
   "source": [
    "tup_concatenada = tup_string + tup_errada + tuple(['Casa', 'Lar', [1, 3, 40313]])\n",
    "tup_concatenada"
   ]
  },
  {
   "cell_type": "code",
   "execution_count": 8,
   "id": "b49e8c9a",
   "metadata": {},
   "outputs": [
    {
     "data": {
      "text/plain": [
       "('Teste1',\n",
       " 'Teste2',\n",
       " 'Teste1',\n",
       " 'Teste2',\n",
       " 'Teste1',\n",
       " 'Teste2',\n",
       " 'Teste1',\n",
       " 'Teste2')"
      ]
     },
     "execution_count": 8,
     "metadata": {},
     "output_type": "execute_result"
    }
   ],
   "source": [
    "tup_multiplica = ('Teste1', 'Teste2') * 4\n",
    "tup_multiplica"
   ]
  },
  {
   "cell_type": "markdown",
   "id": "a155ffef",
   "metadata": {},
   "source": [
    "Como desconcatenar a tupla"
   ]
  },
  {
   "cell_type": "code",
   "execution_count": 9,
   "id": "a69da1db",
   "metadata": {},
   "outputs": [
    {
     "data": {
      "text/plain": [
       "5"
      ]
     },
     "execution_count": 9,
     "metadata": {},
     "output_type": "execute_result"
    }
   ],
   "source": [
    "tupla_unpacking = (4, 5, 6)\n",
    "a, b, c = tupla_unpacking\n",
    "b"
   ]
  },
  {
   "cell_type": "code",
   "execution_count": 10,
   "id": "5d5a72bb",
   "metadata": {},
   "outputs": [
    {
     "data": {
      "text/plain": [
       "7"
      ]
     },
     "execution_count": 10,
     "metadata": {},
     "output_type": "execute_result"
    }
   ],
   "source": [
    "tupla_unpacking_2 = 4, 5, (6, 7)\n",
    "a, b, (c, d) = tupla_unpacking_2\n",
    "d"
   ]
  },
  {
   "cell_type": "code",
   "execution_count": 11,
   "id": "d85b8435",
   "metadata": {},
   "outputs": [
    {
     "data": {
      "text/plain": [
       "1"
      ]
     },
     "execution_count": 11,
     "metadata": {},
     "output_type": "execute_result"
    }
   ],
   "source": [
    "a, b = 1, 2\n",
    "a"
   ]
  },
  {
   "cell_type": "code",
   "execution_count": 12,
   "id": "8e846445",
   "metadata": {},
   "outputs": [
    {
     "data": {
      "text/plain": [
       "2"
      ]
     },
     "execution_count": 12,
     "metadata": {},
     "output_type": "execute_result"
    }
   ],
   "source": [
    "b"
   ]
  },
  {
   "cell_type": "code",
   "execution_count": 13,
   "id": "82e85c29",
   "metadata": {},
   "outputs": [
    {
     "data": {
      "text/plain": [
       "2"
      ]
     },
     "execution_count": 13,
     "metadata": {},
     "output_type": "execute_result"
    }
   ],
   "source": [
    "b, a = a, b\n",
    "a"
   ]
  },
  {
   "cell_type": "code",
   "execution_count": 14,
   "id": "b90c50da",
   "metadata": {},
   "outputs": [
    {
     "name": "stdout",
     "output_type": "stream",
     "text": [
      "a=1, b=2, c=3\n",
      "a=4, b=5, c=6\n",
      "a=7, b=8, c=9\n",
      "a=10, b=11, c=12\n",
      "a=13, b=14, c=15\n",
      "a=16, b=17, c=18\n"
     ]
    }
   ],
   "source": [
    "seq = [(1, 2, 3), (4, 5, 6), (7, 8, 9), (10, 11, 12), (13, 14, 15), (16, 17, 18)]\n",
    "for a, b, c in seq:\n",
    "    print('a={0}, b={1}, c={2}'.format(a, b, c))"
   ]
  },
  {
   "cell_type": "markdown",
   "id": "397979e2",
   "metadata": {},
   "source": [
    "Quando você não sabe quantos dados "
   ]
  },
  {
   "cell_type": "code",
   "execution_count": 15,
   "id": "257a89ef",
   "metadata": {},
   "outputs": [
    {
     "data": {
      "text/plain": [
       "1"
      ]
     },
     "execution_count": 15,
     "metadata": {},
     "output_type": "execute_result"
    }
   ],
   "source": [
    "valores = 1, 2, 3, 4, 5, 6, 7\n",
    "a, b, *rest = valores\n",
    "a"
   ]
  },
  {
   "cell_type": "code",
   "execution_count": 16,
   "id": "5e012490",
   "metadata": {},
   "outputs": [
    {
     "data": {
      "text/plain": [
       "[3, 4, 5, 6, 7]"
      ]
     },
     "execution_count": 16,
     "metadata": {},
     "output_type": "execute_result"
    }
   ],
   "source": [
    "rest"
   ]
  },
  {
   "cell_type": "code",
   "execution_count": 17,
   "id": "9466b76a",
   "metadata": {},
   "outputs": [
    {
     "data": {
      "text/plain": [
       "1"
      ]
     },
     "execution_count": 17,
     "metadata": {},
     "output_type": "execute_result"
    }
   ],
   "source": [
    "valores = 1, 2, 3, 4, 5, 6, 7\n",
    "a, b, *_ = valores\n",
    "a"
   ]
  },
  {
   "cell_type": "code",
   "execution_count": 18,
   "id": "a22e1eb6",
   "metadata": {},
   "outputs": [
    {
     "data": {
      "text/plain": [
       "[3, 4, 5, 6, 7]"
      ]
     },
     "execution_count": 18,
     "metadata": {},
     "output_type": "execute_result"
    }
   ],
   "source": [
    "_"
   ]
  },
  {
   "cell_type": "code",
   "execution_count": 19,
   "id": "4eb1e983",
   "metadata": {},
   "outputs": [],
   "source": [
    "a = (1, 2, 3, 4, 5)"
   ]
  },
  {
   "cell_type": "markdown",
   "id": "30dee6c5",
   "metadata": {},
   "source": [
    "Tuple Methods\n",
    ".count cantos tipos de dados tem, ou seja se tiver repetição de dados ele não conta"
   ]
  },
  {
   "cell_type": "code",
   "execution_count": 20,
   "id": "566de285",
   "metadata": {},
   "outputs": [
    {
     "data": {
      "text/plain": [
       "5"
      ]
     },
     "execution_count": 20,
     "metadata": {},
     "output_type": "execute_result"
    }
   ],
   "source": [
    "a = (1, 2, 2, 2, 2, 2, 3, 4, 5)\n",
    "a.count(2)"
   ]
  },
  {
   "cell_type": "markdown",
   "id": "adef570f",
   "metadata": {},
   "source": [
    "# List\n",
    "\n",
    "Lista é diferente de tupla, ela pode ser modificada e é usado []"
   ]
  },
  {
   "cell_type": "code",
   "execution_count": 21,
   "id": "73e4e5d7",
   "metadata": {},
   "outputs": [
    {
     "data": {
      "text/plain": [
       "[1, 2, 3, 4, None]"
      ]
     },
     "execution_count": 21,
     "metadata": {},
     "output_type": "execute_result"
    }
   ],
   "source": [
    "lista = [1, 2, 3, 4, None]\n",
    "lista"
   ]
  },
  {
   "cell_type": "code",
   "execution_count": 6,
   "id": "fc632472",
   "metadata": {},
   "outputs": [
    {
     "data": {
      "text/plain": [
       "('foo', 'bar', 'baz')"
      ]
     },
     "execution_count": 6,
     "metadata": {},
     "output_type": "execute_result"
    }
   ],
   "source": [
    "tupa = ('foo', 'bar', 'baz')\n",
    "tupa"
   ]
  },
  {
   "cell_type": "code",
   "execution_count": 7,
   "id": "95d593c8",
   "metadata": {},
   "outputs": [
    {
     "data": {
      "text/plain": [
       "['foo', 'bar', 'baz']"
      ]
     },
     "execution_count": 7,
     "metadata": {},
     "output_type": "execute_result"
    }
   ],
   "source": [
    "lista_2 = list(tupa)\n",
    "lista_2"
   ]
  },
  {
   "cell_type": "code",
   "execution_count": 8,
   "id": "ca2d2cc1",
   "metadata": {},
   "outputs": [
    {
     "data": {
      "text/plain": [
       "['foo', 'teste', 'baz']"
      ]
     },
     "execution_count": 8,
     "metadata": {},
     "output_type": "execute_result"
    }
   ],
   "source": [
    "lista_2[1] = 'teste'\n",
    "lista_2"
   ]
  },
  {
   "cell_type": "markdown",
   "id": "67345c0e",
   "metadata": {},
   "source": [
    "range(10) é uma função que cria uma especia de objeto de 0 até 9 - 10 valores "
   ]
  },
  {
   "cell_type": "code",
   "execution_count": 1,
   "id": "7149d9a9",
   "metadata": {},
   "outputs": [
    {
     "data": {
      "text/plain": [
       "range(0, 10)"
      ]
     },
     "execution_count": 1,
     "metadata": {},
     "output_type": "execute_result"
    }
   ],
   "source": [
    "gen = range(10)\n",
    "gen"
   ]
  },
  {
   "cell_type": "markdown",
   "id": "d984b1f3",
   "metadata": {},
   "source": [
    "Ao transformar esse range em uma lista ele mostra os valores criados"
   ]
  },
  {
   "cell_type": "code",
   "execution_count": 2,
   "id": "a4812c4a",
   "metadata": {},
   "outputs": [
    {
     "data": {
      "text/plain": [
       "[0, 1, 2, 3, 4, 5, 6, 7, 8, 9]"
      ]
     },
     "execution_count": 2,
     "metadata": {},
     "output_type": "execute_result"
    }
   ],
   "source": [
    "list(gen)"
   ]
  },
  {
   "cell_type": "markdown",
   "id": "cd65ba41",
   "metadata": {},
   "source": [
    "Como adicionar dados na lista "
   ]
  },
  {
   "cell_type": "code",
   "execution_count": 9,
   "id": "4ca88904",
   "metadata": {},
   "outputs": [
    {
     "data": {
      "text/plain": [
       "['foo', 'teste', 'baz', 'teste21312']"
      ]
     },
     "execution_count": 9,
     "metadata": {},
     "output_type": "execute_result"
    }
   ],
   "source": [
    "lista_2.append('teste21312')\n",
    "lista_2"
   ]
  },
  {
   "cell_type": "markdown",
   "id": "0627fbc3",
   "metadata": {},
   "source": [
    "Diferente do append que adiciona ao final da lista com o insert você define a posição que você vai adicionar o dado"
   ]
  },
  {
   "cell_type": "code",
   "execution_count": 10,
   "id": "20b03cbc",
   "metadata": {},
   "outputs": [
    {
     "data": {
      "text/plain": [
       "['foo', 'Vermelho', 'teste', 'baz', 'teste21312']"
      ]
     },
     "execution_count": 10,
     "metadata": {},
     "output_type": "execute_result"
    }
   ],
   "source": [
    "lista_2.insert(1, 'Vermelho')\n",
    "lista_2"
   ]
  },
  {
   "cell_type": "markdown",
   "id": "c1ef675e",
   "metadata": {},
   "source": [
    "Remover um elemento da lista pela sua localização dentro da lista"
   ]
  },
  {
   "cell_type": "code",
   "execution_count": 11,
   "id": "67e27c9f",
   "metadata": {},
   "outputs": [
    {
     "data": {
      "text/plain": [
       "['foo', 'Vermelho', 'baz', 'teste21312']"
      ]
     },
     "execution_count": 11,
     "metadata": {},
     "output_type": "execute_result"
    }
   ],
   "source": [
    "lista_2.pop(2)\n",
    "lista_2"
   ]
  },
  {
   "cell_type": "code",
   "execution_count": 32,
   "id": "ec122668",
   "metadata": {},
   "outputs": [
    {
     "data": {
      "text/plain": [
       "['foo', 'Vermelho', 'baz', 'teste21312', 'foo']"
      ]
     },
     "execution_count": 32,
     "metadata": {},
     "output_type": "execute_result"
    }
   ],
   "source": [
    "lista_2.append('foo')\n",
    "lista_2"
   ]
  },
  {
   "cell_type": "markdown",
   "id": "d8e6534d",
   "metadata": {},
   "source": [
    "Remover um elemento da lista pelo valor, porém o remove só vai remover o primeiro valor encontrado"
   ]
  },
  {
   "cell_type": "code",
   "execution_count": 33,
   "id": "a2fa90a3",
   "metadata": {},
   "outputs": [
    {
     "data": {
      "text/plain": [
       "['Vermelho', 'baz', 'teste21312', 'foo']"
      ]
     },
     "execution_count": 33,
     "metadata": {},
     "output_type": "execute_result"
    }
   ],
   "source": [
    "lista_2.remove('foo')\n",
    "lista_2"
   ]
  },
  {
   "cell_type": "markdown",
   "id": "7afe0427",
   "metadata": {},
   "source": [
    "Como verificar se exite um dado dentro da lista"
   ]
  },
  {
   "cell_type": "code",
   "execution_count": 36,
   "id": "ab09c32b",
   "metadata": {},
   "outputs": [
    {
     "data": {
      "text/plain": [
       "True"
      ]
     },
     "execution_count": 36,
     "metadata": {},
     "output_type": "execute_result"
    }
   ],
   "source": [
    "'Vermelho' in lista_2"
   ]
  },
  {
   "cell_type": "code",
   "execution_count": 38,
   "id": "21592783",
   "metadata": {},
   "outputs": [
    {
     "data": {
      "text/plain": [
       "False"
      ]
     },
     "execution_count": 38,
     "metadata": {},
     "output_type": "execute_result"
    }
   ],
   "source": [
    "'Vermelho' not in lista_2"
   ]
  },
  {
   "cell_type": "markdown",
   "id": "75086d30",
   "metadata": {},
   "source": [
    "Concatemating and Combining list"
   ]
  },
  {
   "cell_type": "markdown",
   "id": "1d303cbe",
   "metadata": {},
   "source": [
    "Pode concatenar utilizando o +"
   ]
  },
  {
   "cell_type": "code",
   "execution_count": 12,
   "id": "68b3a5c6",
   "metadata": {},
   "outputs": [
    {
     "data": {
      "text/plain": [
       "[4, None, 'foo', 7, 8, 9, (4, 7)]"
      ]
     },
     "execution_count": 12,
     "metadata": {},
     "output_type": "execute_result"
    }
   ],
   "source": [
    "[4, None, 'foo'] + [7, 8, 9, (4, 7)]"
   ]
  },
  {
   "cell_type": "markdown",
   "id": "60be1652",
   "metadata": {},
   "source": [
    "Ou pode utilizando o .extend"
   ]
  },
  {
   "cell_type": "code",
   "execution_count": 41,
   "id": "37b98a87",
   "metadata": {},
   "outputs": [
    {
     "data": {
      "text/plain": [
       "[4, None, 'foo', 7, 8, (3, 41, True), 3, 'casa']"
      ]
     },
     "execution_count": 41,
     "metadata": {},
     "output_type": "execute_result"
    }
   ],
   "source": [
    "x = [4, None, 'foo']\n",
    "x.extend([7, 8, (3, 41, True)])\n",
    "x.extend([3, 'casa'])\n",
    "x"
   ]
  },
  {
   "cell_type": "markdown",
   "id": "8601ee23",
   "metadata": {},
   "source": [
    "Como ordernar a sequencia da lista"
   ]
  },
  {
   "cell_type": "code",
   "execution_count": 42,
   "id": "1d7b5052",
   "metadata": {},
   "outputs": [
    {
     "data": {
      "text/plain": [
       "[7, 2, 4, 1, 0]"
      ]
     },
     "execution_count": 42,
     "metadata": {},
     "output_type": "execute_result"
    }
   ],
   "source": [
    "a = [7, 2, 4, 1, 0]\n",
    "a"
   ]
  },
  {
   "cell_type": "code",
   "execution_count": 44,
   "id": "c71c86c9",
   "metadata": {},
   "outputs": [
    {
     "data": {
      "text/plain": [
       "[0, 1, 2, 4, 7]"
      ]
     },
     "execution_count": 44,
     "metadata": {},
     "output_type": "execute_result"
    }
   ],
   "source": [
    "a.sort()\n",
    "a"
   ]
  },
  {
   "cell_type": "code",
   "execution_count": 46,
   "id": "df259870",
   "metadata": {},
   "outputs": [
    {
     "data": {
      "text/plain": [
       "['Lara', 'Zé Rosca', 'casa', 'teste']"
      ]
     },
     "execution_count": 46,
     "metadata": {},
     "output_type": "execute_result"
    }
   ],
   "source": [
    "b = ['casa', 'teste', 'Lara', 'Zé Rosca']\n",
    "b.sort()\n",
    "b"
   ]
  },
  {
   "cell_type": "markdown",
   "id": "dcb5eae5",
   "metadata": {},
   "source": [
    "key=len ordena pelo tamanho das palavras"
   ]
  },
  {
   "cell_type": "code",
   "execution_count": 47,
   "id": "ed6adff1",
   "metadata": {},
   "outputs": [
    {
     "data": {
      "text/plain": [
       "['Lara', 'casa', 'teste', 'Zé Rosca']"
      ]
     },
     "execution_count": 47,
     "metadata": {},
     "output_type": "execute_result"
    }
   ],
   "source": [
    "b.sort(key=len)\n",
    "b"
   ]
  },
  {
   "cell_type": "markdown",
   "id": "1d9295be",
   "metadata": {},
   "source": [
    "Binary search and maintaining a sort list"
   ]
  },
  {
   "cell_type": "markdown",
   "id": "353562ab",
   "metadata": {},
   "source": [
    "bisect é utilizado para mostrar a localização em que um dado pode ser inserido na sequência, ele faz um sort e acha a posição da dado que pode ser inserido"
   ]
  },
  {
   "cell_type": "code",
   "execution_count": 13,
   "id": "3443dc3b",
   "metadata": {},
   "outputs": [
    {
     "data": {
      "text/plain": [
       "6"
      ]
     },
     "execution_count": 13,
     "metadata": {},
     "output_type": "execute_result"
    }
   ],
   "source": [
    "import bisect\n",
    "c = [1, 2, 2, 3, 4, 7, 9]\n",
    "bisect.bisect(c, 8)"
   ]
  },
  {
   "cell_type": "markdown",
   "id": "e1f699f1",
   "metadata": {},
   "source": [
    "Por exemplo no caso a cima, o valor 8 pode ser inserido na posição 6"
   ]
  },
  {
   "cell_type": "code",
   "execution_count": 50,
   "id": "c94cbfda",
   "metadata": {},
   "outputs": [
    {
     "data": {
      "text/plain": [
       "3"
      ]
     },
     "execution_count": 50,
     "metadata": {},
     "output_type": "execute_result"
    }
   ],
   "source": [
    "bisect.bisect(c, 2)"
   ]
  },
  {
   "cell_type": "code",
   "execution_count": 33,
   "id": "11177a22",
   "metadata": {},
   "outputs": [
    {
     "data": {
      "text/plain": [
       "8"
      ]
     },
     "execution_count": 33,
     "metadata": {},
     "output_type": "execute_result"
    }
   ],
   "source": [
    "d = [1, 3, 5, 3, 1, 3, 1, 2, 9]\n",
    "bisect.bisect(d, 4)"
   ]
  },
  {
   "cell_type": "code",
   "execution_count": 34,
   "id": "4bdf7477",
   "metadata": {},
   "outputs": [
    {
     "data": {
      "text/plain": [
       "[1, 1, 1, 2, 3, 3, 3, 5, 9]"
      ]
     },
     "execution_count": 34,
     "metadata": {},
     "output_type": "execute_result"
    }
   ],
   "source": [
    "d.sort()\n",
    "d"
   ]
  },
  {
   "cell_type": "code",
   "execution_count": 35,
   "id": "bd240500",
   "metadata": {},
   "outputs": [
    {
     "data": {
      "text/plain": [
       "[1, 1, 1, 2, 3, 3, 3, 4, 5, 9]"
      ]
     },
     "execution_count": 35,
     "metadata": {},
     "output_type": "execute_result"
    }
   ],
   "source": [
    "bisect.insort(d, 4)\n",
    "d"
   ]
  },
  {
   "cell_type": "markdown",
   "id": "6cfda1d5",
   "metadata": {},
   "source": [
    "Slicing"
   ]
  },
  {
   "cell_type": "markdown",
   "id": "39eb372d",
   "metadata": {},
   "source": [
    "Aqui é possível fazer um fatiamento de uma lista"
   ]
  },
  {
   "cell_type": "markdown",
   "id": "c214c95f",
   "metadata": {},
   "source": [
    "Pode retirar valores da lista"
   ]
  },
  {
   "cell_type": "code",
   "execution_count": 37,
   "id": "d73424b1",
   "metadata": {},
   "outputs": [
    {
     "data": {
      "text/plain": [
       "[8, 2, 4]"
      ]
     },
     "execution_count": 37,
     "metadata": {},
     "output_type": "execute_result"
    }
   ],
   "source": [
    "sequencia = [7, 8, 2, 4, 1, 0, 9]\n",
    "sequencia[1:4]"
   ]
  },
  {
   "cell_type": "markdown",
   "id": "cd3c9c46",
   "metadata": {},
   "source": [
    "Pode adicionar valores na lista"
   ]
  },
  {
   "cell_type": "code",
   "execution_count": 55,
   "id": "bb1bee3b",
   "metadata": {},
   "outputs": [
    {
     "data": {
      "text/plain": [
       "[7, 8, 2, 1, 1, 1, 0, 9]"
      ]
     },
     "execution_count": 55,
     "metadata": {},
     "output_type": "execute_result"
    }
   ],
   "source": [
    "sequencia[3:5] = [1, 1, 1]\n",
    "sequencia"
   ]
  },
  {
   "cell_type": "markdown",
   "id": "5bbd5aed",
   "metadata": {},
   "source": [
    "Buscar valores do começo até a posição específica "
   ]
  },
  {
   "cell_type": "code",
   "execution_count": 56,
   "id": "b7cd01a5",
   "metadata": {},
   "outputs": [
    {
     "data": {
      "text/plain": [
       "[7, 8, 2]"
      ]
     },
     "execution_count": 56,
     "metadata": {},
     "output_type": "execute_result"
    }
   ],
   "source": [
    "sequencia[:3]"
   ]
  },
  {
   "cell_type": "markdown",
   "id": "4bc28fe6",
   "metadata": {},
   "source": [
    "Buscar valores da posição específica até o final"
   ]
  },
  {
   "cell_type": "code",
   "execution_count": 39,
   "id": "5b375c1f",
   "metadata": {},
   "outputs": [
    {
     "data": {
      "text/plain": [
       "[4, 1, 0, 9]"
      ]
     },
     "execution_count": 39,
     "metadata": {},
     "output_type": "execute_result"
    }
   ],
   "source": [
    "sequencia[3:]"
   ]
  },
  {
   "cell_type": "markdown",
   "id": "34a2dbc9",
   "metadata": {},
   "source": [
    "Buscar valores do início até o final -4, ou seja da última posição retorna mais 4 casas neste caso"
   ]
  },
  {
   "cell_type": "code",
   "execution_count": 40,
   "id": "689f7f3f",
   "metadata": {},
   "outputs": [
    {
     "data": {
      "text/plain": [
       "[4, 1, 0, 9]"
      ]
     },
     "execution_count": 40,
     "metadata": {},
     "output_type": "execute_result"
    }
   ],
   "source": [
    "sequencia[-4:]"
   ]
  },
  {
   "cell_type": "code",
   "execution_count": 45,
   "id": "efec5c60",
   "metadata": {},
   "outputs": [
    {
     "data": {
      "text/plain": [
       "[7, 8, 2, 4, 1, 0, 9]"
      ]
     },
     "execution_count": 45,
     "metadata": {},
     "output_type": "execute_result"
    }
   ],
   "source": [
    "sequencia"
   ]
  },
  {
   "cell_type": "markdown",
   "id": "bc9b7b4a",
   "metadata": {},
   "source": [
    "Toda vez que é utilizado o - a contagem da posição é sempre de trás para frente"
   ]
  },
  {
   "cell_type": "code",
   "execution_count": 47,
   "id": "68f78bcb",
   "metadata": {},
   "outputs": [
    {
     "data": {
      "text/plain": [
       "[4, 1, 0]"
      ]
     },
     "execution_count": 47,
     "metadata": {},
     "output_type": "execute_result"
    }
   ],
   "source": [
    "sequencia[-4:-1]"
   ]
  },
  {
   "cell_type": "markdown",
   "id": "2379f4f9",
   "metadata": {},
   "source": [
    "Utilizandos :: faz uma inversão da sequência da lista"
   ]
  },
  {
   "cell_type": "code",
   "execution_count": 48,
   "id": "98948df4",
   "metadata": {},
   "outputs": [
    {
     "data": {
      "text/plain": [
       "[9, 0, 1, 4, 2, 8, 7]"
      ]
     },
     "execution_count": 48,
     "metadata": {},
     "output_type": "execute_result"
    }
   ],
   "source": [
    "sequencia[::-1]"
   ]
  },
  {
   "cell_type": "markdown",
   "id": "3deda66f",
   "metadata": {},
   "source": [
    "ENUMERATEEEEE!!!!"
   ]
  },
  {
   "cell_type": "markdown",
   "id": "0201ceed",
   "metadata": {},
   "source": [
    "Uma forma simples de enumerar uma sequência"
   ]
  },
  {
   "cell_type": "code",
   "execution_count": 68,
   "id": "dc4b5426",
   "metadata": {},
   "outputs": [
    {
     "name": "stdout",
     "output_type": "stream",
     "text": [
      "1 7\n",
      "2 8\n",
      "3 2\n",
      "4 1\n",
      "5 1\n",
      "6 1\n",
      "7 0\n",
      "8 9\n"
     ]
    }
   ],
   "source": [
    "i = 0\n",
    "for value in sequencia:\n",
    "    i += 1\n",
    "    print(i, value)"
   ]
  },
  {
   "cell_type": "markdown",
   "id": "1d0c7ad9",
   "metadata": {},
   "source": [
    "Utilizando o enumerate"
   ]
  },
  {
   "cell_type": "code",
   "execution_count": 67,
   "id": "4918b897",
   "metadata": {},
   "outputs": [
    {
     "name": "stdout",
     "output_type": "stream",
     "text": [
      "0 7\n",
      "1 8\n",
      "2 2\n",
      "3 1\n",
      "4 1\n",
      "5 1\n",
      "6 0\n",
      "7 9\n"
     ]
    }
   ],
   "source": [
    "for i, value in enumerate(sequencia):\n",
    "    print(i, value)\n"
   ]
  },
  {
   "cell_type": "markdown",
   "id": "40e931c0",
   "metadata": {},
   "source": [
    "Enumerando uma lista e transformando num dicionário "
   ]
  },
  {
   "cell_type": "code",
   "execution_count": 72,
   "id": "bbb8cffb",
   "metadata": {},
   "outputs": [
    {
     "name": "stdout",
     "output_type": "stream",
     "text": [
      "{'foo': 0, 'bar': 1, 'teste': 2}\n"
     ]
    }
   ],
   "source": [
    "some_list = ['foo', 'bar', 'teste']\n",
    "mapping = {}\n",
    "for i, v in enumerate(some_list):\n",
    "    mapping[v] = i\n",
    "print(mapping)\n"
   ]
  },
  {
   "cell_type": "markdown",
   "id": "13ad008f",
   "metadata": {},
   "source": [
    "sorted é diferente de sort, o sorted faz o sequênciamento de tudo que estiver dentro da lista"
   ]
  },
  {
   "cell_type": "code",
   "execution_count": 74,
   "id": "5fedc065",
   "metadata": {},
   "outputs": [
    {
     "data": {
      "text/plain": [
       "[0, 1, 3, 4, 6, 7, 9]"
      ]
     },
     "execution_count": 74,
     "metadata": {},
     "output_type": "execute_result"
    }
   ],
   "source": [
    "sorted([7, 3, 1, 0, 9, 4, 6])"
   ]
  },
  {
   "cell_type": "code",
   "execution_count": 75,
   "id": "ba405e12",
   "metadata": {},
   "outputs": [
    {
     "data": {
      "text/plain": [
       "[' ',\n",
       " ' ',\n",
       " ' ',\n",
       " 'B',\n",
       " 'O',\n",
       " 'R',\n",
       " 'a',\n",
       " 'a',\n",
       " 'c',\n",
       " 'd',\n",
       " 'd',\n",
       " 'e',\n",
       " 'e',\n",
       " 'g',\n",
       " 'h',\n",
       " 'i',\n",
       " 'i',\n",
       " 'i',\n",
       " 'i',\n",
       " 'l',\n",
       " 'l',\n",
       " 'o',\n",
       " 'o',\n",
       " 'o',\n",
       " 'r',\n",
       " 'r',\n",
       " 'r',\n",
       " 's',\n",
       " 's',\n",
       " 'v',\n",
       " 'v']"
      ]
     },
     "execution_count": 75,
     "metadata": {},
     "output_type": "execute_result"
    }
   ],
   "source": [
    "sorted('Rodrigo Broslavschi de Oliveira')"
   ]
  },
  {
   "cell_type": "markdown",
   "id": "c10f8db2",
   "metadata": {},
   "source": [
    "zip !!!!!"
   ]
  },
  {
   "cell_type": "markdown",
   "id": "dde1d6f7",
   "metadata": {},
   "source": [
    "zip é crazy ele \"junta\" pares de valores de duas listas, aqui é o inicinho de um dataframe"
   ]
  },
  {
   "cell_type": "code",
   "execution_count": 2,
   "id": "3cda7b81",
   "metadata": {},
   "outputs": [
    {
     "data": {
      "text/plain": [
       "[('teste1', 'um'), ('foi', 'dois'), ('casa', 'três')]"
      ]
     },
     "execution_count": 2,
     "metadata": {},
     "output_type": "execute_result"
    }
   ],
   "source": [
    "seq1 = ['teste1', 'foi', 'casa']\n",
    "seq2 = ['um', 'dois', 'três']\n",
    "zipado = zip(seq1, seq2)\n",
    "list(zipado)"
   ]
  },
  {
   "cell_type": "markdown",
   "id": "7f976ab8",
   "metadata": {},
   "source": [
    "tem como fazer um zip de uma lista que não tem a mesma quantidade de elementos, o problema é que a lista que tiver mais elementos perderá os últimos elementos que não foram combinados"
   ]
  },
  {
   "cell_type": "code",
   "execution_count": 3,
   "id": "6d1ad1e4",
   "metadata": {},
   "outputs": [
    {
     "data": {
      "text/plain": [
       "[('teste1', 'um', True), ('foi', 'dois', False)]"
      ]
     },
     "execution_count": 3,
     "metadata": {},
     "output_type": "execute_result"
    }
   ],
   "source": [
    "seq3 = [True, False]\n",
    "list(zip(seq1, seq2, seq3))"
   ]
  },
  {
   "cell_type": "markdown",
   "id": "595d391e",
   "metadata": {},
   "source": [
    "Enumerando uma lista zip "
   ]
  },
  {
   "cell_type": "code",
   "execution_count": 5,
   "id": "62971c84",
   "metadata": {},
   "outputs": [
    {
     "name": "stdout",
     "output_type": "stream",
     "text": [
      "0: teste1, um\n",
      "1: foi, dois\n",
      "2: casa, três\n"
     ]
    }
   ],
   "source": [
    "for i, (a, b) in enumerate(zip(seq1, seq2)):\n",
    "    print('{}: {}, {}'.format(i, a, b))"
   ]
  },
  {
   "cell_type": "code",
   "execution_count": 7,
   "id": "e5827c5e",
   "metadata": {},
   "outputs": [
    {
     "data": {
      "text/plain": [
       "('Nolan', 'Roger')"
      ]
     },
     "execution_count": 7,
     "metadata": {},
     "output_type": "execute_result"
    }
   ],
   "source": [
    "pitchers = [('Nolan', 'Ryan'), ('Roger', 'Clemens')]\n",
    "primeiro_nome, ultimo_nome = zip(*pitchers)\n",
    "primeiro_nome"
   ]
  },
  {
   "cell_type": "code",
   "execution_count": 8,
   "id": "2ee43571",
   "metadata": {},
   "outputs": [
    {
     "data": {
      "text/plain": [
       "('Ryan', 'Clemens')"
      ]
     },
     "execution_count": 8,
     "metadata": {},
     "output_type": "execute_result"
    }
   ],
   "source": [
    "ultimo_nome"
   ]
  },
  {
   "cell_type": "markdown",
   "id": "eafdfb38",
   "metadata": {},
   "source": [
    "reversed"
   ]
  },
  {
   "cell_type": "markdown",
   "id": "73001bb5",
   "metadata": {},
   "source": [
    "reversed simpesmente inverte a sequência"
   ]
  },
  {
   "cell_type": "code",
   "execution_count": 59,
   "id": "60841080",
   "metadata": {},
   "outputs": [
    {
     "data": {
      "text/plain": [
       "[5, 2, 9, 6, 2, 2, 2, 2, 1, 3, 1]"
      ]
     },
     "execution_count": 59,
     "metadata": {},
     "output_type": "execute_result"
    }
   ],
   "source": [
    "list(reversed([1, 3, 1, 2, 2, 2, 2, 6, 9, 2, 5]))"
   ]
  },
  {
   "cell_type": "code",
   "execution_count": 63,
   "id": "fc38c461",
   "metadata": {},
   "outputs": [
    {
     "data": {
      "text/plain": [
       "[5, 2, 9, 6, 2, 2, 2, 2, 1, 3, 1]"
      ]
     },
     "execution_count": 63,
     "metadata": {},
     "output_type": "execute_result"
    }
   ],
   "source": [
    "lista_normal= [1, 3, 1, 2, 2, 2, 2, 6, 9, 2, 5]\n",
    "lista_normal[::-1]"
   ]
  },
  {
   "cell_type": "code",
   "execution_count": 58,
   "id": "87277a3c",
   "metadata": {},
   "outputs": [
    {
     "data": {
      "text/plain": [
       "['a',\n",
       " 'r',\n",
       " 'i',\n",
       " 'e',\n",
       " 'v',\n",
       " 'i',\n",
       " 'l',\n",
       " 'O',\n",
       " ' ',\n",
       " 'e',\n",
       " 'd',\n",
       " ' ',\n",
       " 'i',\n",
       " 'h',\n",
       " 'c',\n",
       " 's',\n",
       " 'v',\n",
       " 'a',\n",
       " 'l',\n",
       " 's',\n",
       " 'o',\n",
       " 'r',\n",
       " 'B',\n",
       " ' ',\n",
       " 'o',\n",
       " 'g',\n",
       " 'i',\n",
       " 'r',\n",
       " 'd',\n",
       " 'o',\n",
       " 'R']"
      ]
     },
     "execution_count": 58,
     "metadata": {},
     "output_type": "execute_result"
    }
   ],
   "source": [
    "list(reversed('Rodrigo Broslavschi de Oliveira'))"
   ]
  },
  {
   "cell_type": "markdown",
   "id": "2a5a3233",
   "metadata": {},
   "source": [
    "# dict"
   ]
  },
  {
   "cell_type": "markdown",
   "id": "2351836e",
   "metadata": {},
   "source": [
    "Se tenho uma coisa para falar sobre dicionário eu diria que é muito muito FODA!!!"
   ]
  },
  {
   "cell_type": "markdown",
   "id": "b69321b9",
   "metadata": {},
   "source": [
    "Me ajudou muito em prepara diversas estruturas "
   ]
  },
  {
   "cell_type": "code",
   "execution_count": 65,
   "id": "223262b3",
   "metadata": {},
   "outputs": [
    {
     "data": {
      "text/plain": [
       "{'a': 'teste', 'b': [1, 2, 3, 4]}"
      ]
     },
     "execution_count": 65,
     "metadata": {},
     "output_type": "execute_result"
    }
   ],
   "source": [
    "d1 = {'a': 'teste', 'b': [1, 2, 3, 4]}\n",
    "d1"
   ]
  },
  {
   "cell_type": "markdown",
   "id": "9aa2c859",
   "metadata": {},
   "source": [
    "Como adicionar "
   ]
  },
  {
   "cell_type": "code",
   "execution_count": 13,
   "id": "b2434e49",
   "metadata": {},
   "outputs": [
    {
     "data": {
      "text/plain": [
       "{'a': 'teste', 'b': [1, 2, 3, 4], 10: 'Teste Casa 10'}"
      ]
     },
     "execution_count": 13,
     "metadata": {},
     "output_type": "execute_result"
    }
   ],
   "source": [
    "d1[10] = 'Teste Casa 10'\n",
    "d1"
   ]
  },
  {
   "cell_type": "code",
   "execution_count": 68,
   "id": "b8174505",
   "metadata": {},
   "outputs": [
    {
     "data": {
      "text/plain": [
       "{'a': 'teste', 'b': [1, 2, 3, 4], 'tchutchu': 'tchatcha'}"
      ]
     },
     "execution_count": 68,
     "metadata": {},
     "output_type": "execute_result"
    }
   ],
   "source": [
    "d1['tchutchu'] = 'tchatcha'\n",
    "d1"
   ]
  },
  {
   "cell_type": "code",
   "execution_count": 69,
   "id": "a29c4f49",
   "metadata": {},
   "outputs": [
    {
     "data": {
      "text/plain": [
       "'tchatcha'"
      ]
     },
     "execution_count": 69,
     "metadata": {},
     "output_type": "execute_result"
    }
   ],
   "source": [
    "d1['tchutchu']"
   ]
  },
  {
   "cell_type": "markdown",
   "id": "f50554c0",
   "metadata": {},
   "source": [
    "Verificar se existe o valor 'a' dentro da variável"
   ]
  },
  {
   "cell_type": "code",
   "execution_count": 70,
   "id": "711f3b88",
   "metadata": {},
   "outputs": [
    {
     "data": {
      "text/plain": [
       "True"
      ]
     },
     "execution_count": 70,
     "metadata": {},
     "output_type": "execute_result"
    }
   ],
   "source": [
    "'a' in d1"
   ]
  },
  {
   "cell_type": "markdown",
   "id": "8c7cd7fa",
   "metadata": {},
   "source": [
    "Como remover um dado de uma variável"
   ]
  },
  {
   "cell_type": "code",
   "execution_count": 71,
   "id": "7f07def5",
   "metadata": {},
   "outputs": [
    {
     "data": {
      "text/plain": [
       "{'a': 'teste', 'b': [1, 2, 3, 4], 'tchutchu': 'tchatcha'}"
      ]
     },
     "execution_count": 71,
     "metadata": {},
     "output_type": "execute_result"
    }
   ],
   "source": [
    "d1"
   ]
  },
  {
   "cell_type": "code",
   "execution_count": 72,
   "id": "87fb756f",
   "metadata": {},
   "outputs": [
    {
     "data": {
      "text/plain": [
       "{'a': 'teste', 'b': [1, 2, 3, 4]}"
      ]
     },
     "execution_count": 72,
     "metadata": {},
     "output_type": "execute_result"
    }
   ],
   "source": [
    "del d1['tchutchu']\n",
    "d1"
   ]
  },
  {
   "cell_type": "markdown",
   "id": "21ec23ef",
   "metadata": {},
   "source": [
    "Como Retirar um valor"
   ]
  },
  {
   "cell_type": "code",
   "execution_count": 73,
   "id": "adc240b8",
   "metadata": {},
   "outputs": [
    {
     "data": {
      "text/plain": [
       "'teste'"
      ]
     },
     "execution_count": 73,
     "metadata": {},
     "output_type": "execute_result"
    }
   ],
   "source": [
    "resposta = d1.pop('a')\n",
    "resposta"
   ]
  },
  {
   "cell_type": "code",
   "execution_count": 74,
   "id": "468387d1",
   "metadata": {},
   "outputs": [
    {
     "data": {
      "text/plain": [
       "{'b': [1, 2, 3, 4]}"
      ]
     },
     "execution_count": 74,
     "metadata": {},
     "output_type": "execute_result"
    }
   ],
   "source": [
    "d1"
   ]
  },
  {
   "cell_type": "markdown",
   "id": "67bfb8af",
   "metadata": {},
   "source": [
    "Como Listar as chaves do dicionário"
   ]
  },
  {
   "cell_type": "code",
   "execution_count": 22,
   "id": "fe848af9",
   "metadata": {},
   "outputs": [
    {
     "data": {
      "text/plain": [
       "['b', 10]"
      ]
     },
     "execution_count": 22,
     "metadata": {},
     "output_type": "execute_result"
    }
   ],
   "source": [
    "list(d1.keys())"
   ]
  },
  {
   "cell_type": "markdown",
   "id": "732f2fb8",
   "metadata": {},
   "source": [
    "Como Listar os Valores do dicionário"
   ]
  },
  {
   "cell_type": "code",
   "execution_count": 75,
   "id": "de1a955c",
   "metadata": {},
   "outputs": [
    {
     "data": {
      "text/plain": [
       "[[1, 2, 3, 4]]"
      ]
     },
     "execution_count": 75,
     "metadata": {},
     "output_type": "execute_result"
    }
   ],
   "source": [
    "list(d1.values())"
   ]
  },
  {
   "cell_type": "markdown",
   "id": "8b2533c5",
   "metadata": {},
   "source": [
    "Atualizar o dicionário"
   ]
  },
  {
   "cell_type": "code",
   "execution_count": 24,
   "id": "33ea659d",
   "metadata": {},
   "outputs": [
    {
     "data": {
      "text/plain": [
       "{'b': 'Altarado key b', 10: 'alterado key 10'}"
      ]
     },
     "execution_count": 24,
     "metadata": {},
     "output_type": "execute_result"
    }
   ],
   "source": [
    "d1.update({'b': 'Altarado key b', 10: 'alterado key 10'})\n",
    "d1"
   ]
  },
  {
   "cell_type": "markdown",
   "id": "3fedc1ec",
   "metadata": {},
   "source": [
    "Criando dicionários por meio de sequências"
   ]
  },
  {
   "cell_type": "code",
   "execution_count": 25,
   "id": "2ae1d538",
   "metadata": {},
   "outputs": [],
   "source": [
    "mapping = {}\n",
    "for key, valeu in zip(['a', 'b', 'c', 'd'], ['casa', 'teste', 'ola', 'foi']):\n",
    "    mapping[key] = valeu"
   ]
  },
  {
   "cell_type": "code",
   "execution_count": 26,
   "id": "d4f66863",
   "metadata": {},
   "outputs": [
    {
     "data": {
      "text/plain": [
       "{'a': 'casa', 'b': 'teste', 'c': 'ola', 'd': 'foi'}"
      ]
     },
     "execution_count": 26,
     "metadata": {},
     "output_type": "execute_result"
    }
   ],
   "source": [
    "mapping"
   ]
  },
  {
   "cell_type": "code",
   "execution_count": 30,
   "id": "1952546d",
   "metadata": {},
   "outputs": [
    {
     "data": {
      "text/plain": [
       "{0: 4, 1: 3, 2: 2, 3: 1, 4: 0}"
      ]
     },
     "execution_count": 30,
     "metadata": {},
     "output_type": "execute_result"
    }
   ],
   "source": [
    "mapping2 = dict(zip(range(5), reversed(range(5))))\n",
    "mapping2"
   ]
  },
  {
   "cell_type": "markdown",
   "id": "f391d309",
   "metadata": {},
   "source": [
    "Default Values"
   ]
  },
  {
   "cell_type": "markdown",
   "id": "c4be34a6",
   "metadata": {},
   "source": [
    "setdefault é utilizado para ser reescrito dentro de um laço "
   ]
  },
  {
   "cell_type": "markdown",
   "id": "1d73ca0c",
   "metadata": {},
   "source": [
    "for word in words:\n",
    "    letter = word[0]\n",
    "    by_letter.setdefault(letterm,[]).append(word)"
   ]
  },
  {
   "cell_type": "markdown",
   "id": "adbf1513",
   "metadata": {},
   "source": [
    "# Collections"
   ]
  },
  {
   "cell_type": "markdown",
   "id": "efbd184c",
   "metadata": {},
   "source": [
    "collections é um modulo utilizado para criar classes defaul, você cria um objeto collection é passo o tipo de função que será gerada e o valor que será gravado na variável"
   ]
  },
  {
   "cell_type": "code",
   "execution_count": 3,
   "id": "0f445683",
   "metadata": {},
   "outputs": [],
   "source": [
    "from collections import defaultdict\n",
    "\n",
    "words = ['casa', 'teste', 'oi']\n",
    "\n",
    "by_letter = defaultdict(list)\n",
    "for word in words:\n",
    "    by_letter[word[0]].append(word)"
   ]
  },
  {
   "cell_type": "code",
   "execution_count": 4,
   "id": "6bdbe3d2",
   "metadata": {},
   "outputs": [
    {
     "data": {
      "text/plain": [
       "defaultdict(list, {'c': ['casa'], 't': ['teste'], 'o': ['oi']})"
      ]
     },
     "execution_count": 4,
     "metadata": {},
     "output_type": "execute_result"
    }
   ],
   "source": [
    "by_letter"
   ]
  },
  {
   "cell_type": "markdown",
   "id": "ce581a74",
   "metadata": {},
   "source": [
    "Valid dict key list"
   ]
  },
  {
   "cell_type": "markdown",
   "id": "34044dda",
   "metadata": {},
   "source": [
    "Hash transforma a valor em inteiro, é utilizado para fazer comparações de Variáveis, quando as variáveis são imensas é interesante utiliza-lo "
   ]
  },
  {
   "cell_type": "code",
   "execution_count": 1,
   "id": "a8148d74",
   "metadata": {},
   "outputs": [
    {
     "data": {
      "text/plain": [
       "True"
      ]
     },
     "execution_count": 1,
     "metadata": {},
     "output_type": "execute_result"
    }
   ],
   "source": [
    "val_1 = ('Teste')\n",
    "val_2 = ('Teste')\n",
    "hash(val_1) == hash(val_2)"
   ]
  },
  {
   "cell_type": "code",
   "execution_count": 10,
   "id": "e2d8d173",
   "metadata": {},
   "outputs": [
    {
     "data": {
      "text/plain": [
       "-1517178928303570310"
      ]
     },
     "execution_count": 10,
     "metadata": {},
     "output_type": "execute_result"
    }
   ],
   "source": [
    "hash((1, 3, (2, 3)))"
   ]
  },
  {
   "cell_type": "markdown",
   "id": "d2ac215f",
   "metadata": {},
   "source": [
    "# SET"
   ]
  },
  {
   "cell_type": "markdown",
   "id": "48aee7fa",
   "metadata": {},
   "source": [
    "set é utilizado para unificar duas variáveis"
   ]
  },
  {
   "cell_type": "code",
   "execution_count": 2,
   "id": "2e95b9c6",
   "metadata": {},
   "outputs": [
    {
     "data": {
      "text/plain": [
       "{1, 2, 3}"
      ]
     },
     "execution_count": 2,
     "metadata": {},
     "output_type": "execute_result"
    }
   ],
   "source": [
    "set([2,2,1,3,3])"
   ]
  },
  {
   "cell_type": "code",
   "execution_count": 3,
   "id": "de40656f",
   "metadata": {},
   "outputs": [
    {
     "data": {
      "text/plain": [
       "{1, 2, 3}"
      ]
     },
     "execution_count": 3,
     "metadata": {},
     "output_type": "execute_result"
    }
   ],
   "source": [
    "{2,2,2,1,3,3}"
   ]
  },
  {
   "cell_type": "markdown",
   "id": "164cf134",
   "metadata": {},
   "source": [
    "Union é parecido com o set, ele faz um set em duas variáveis e depois unifica elas"
   ]
  },
  {
   "cell_type": "code",
   "execution_count": 5,
   "id": "f010a76a",
   "metadata": {},
   "outputs": [],
   "source": [
    "a = {1, 2, 2, 2, 2, 3, 4}\n",
    "b = {3, 3, 3, 4, 4, 5, 6, 7, 8}"
   ]
  },
  {
   "cell_type": "code",
   "execution_count": 6,
   "id": "bd75e0ba",
   "metadata": {},
   "outputs": [
    {
     "data": {
      "text/plain": [
       "{1, 2, 3, 4, 5, 6, 7, 8}"
      ]
     },
     "execution_count": 6,
     "metadata": {},
     "output_type": "execute_result"
    }
   ],
   "source": [
    "a.union(b)"
   ]
  },
  {
   "cell_type": "code",
   "execution_count": 7,
   "id": "e17165cd",
   "metadata": {},
   "outputs": [
    {
     "data": {
      "text/plain": [
       "{1, 2, 3, 4, 5, 6, 7, 8}"
      ]
     },
     "execution_count": 7,
     "metadata": {},
     "output_type": "execute_result"
    }
   ],
   "source": [
    "a | b"
   ]
  },
  {
   "cell_type": "markdown",
   "id": "79518b6d",
   "metadata": {},
   "source": [
    "intersection, faz um match dos valores"
   ]
  },
  {
   "cell_type": "code",
   "execution_count": 8,
   "id": "f95b399e",
   "metadata": {},
   "outputs": [
    {
     "data": {
      "text/plain": [
       "{3, 4}"
      ]
     },
     "execution_count": 8,
     "metadata": {},
     "output_type": "execute_result"
    }
   ],
   "source": [
    "a.intersection(b)"
   ]
  },
  {
   "cell_type": "code",
   "execution_count": 14,
   "id": "2e8d2310",
   "metadata": {},
   "outputs": [
    {
     "data": {
      "text/plain": [
       "{3, 4}"
      ]
     },
     "execution_count": 14,
     "metadata": {},
     "output_type": "execute_result"
    }
   ],
   "source": [
    "a & b"
   ]
  },
  {
   "cell_type": "markdown",
   "id": "472e9d97",
   "metadata": {},
   "source": [
    "add adiciona um elemento"
   ]
  },
  {
   "cell_type": "code",
   "execution_count": 13,
   "id": "b0214f6d",
   "metadata": {},
   "outputs": [
    {
     "data": {
      "text/plain": [
       "{1, 2, 3, 4, 10}"
      ]
     },
     "execution_count": 13,
     "metadata": {},
     "output_type": "execute_result"
    }
   ],
   "source": [
    "a.add(10)\n",
    "a"
   ]
  },
  {
   "cell_type": "markdown",
   "id": "3cb3d6a4",
   "metadata": {},
   "source": [
    "clear - zera a variável"
   ]
  },
  {
   "cell_type": "code",
   "execution_count": 16,
   "id": "838a9c3d",
   "metadata": {},
   "outputs": [
    {
     "data": {
      "text/plain": [
       "set()"
      ]
     },
     "execution_count": 16,
     "metadata": {},
     "output_type": "execute_result"
    }
   ],
   "source": [
    "a.clear()\n",
    "a"
   ]
  },
  {
   "cell_type": "markdown",
   "id": "eaae9f2d",
   "metadata": {},
   "source": [
    "remove - remove um valor da variável"
   ]
  },
  {
   "cell_type": "code",
   "execution_count": 19,
   "id": "142e152f",
   "metadata": {},
   "outputs": [
    {
     "data": {
      "text/plain": [
       "{3, 5, 6, 7, 8}"
      ]
     },
     "execution_count": 19,
     "metadata": {},
     "output_type": "execute_result"
    }
   ],
   "source": [
    "b"
   ]
  },
  {
   "cell_type": "code",
   "execution_count": 20,
   "id": "3cb5f556",
   "metadata": {},
   "outputs": [
    {
     "data": {
      "text/plain": [
       "{3, 6, 7, 8}"
      ]
     },
     "execution_count": 20,
     "metadata": {},
     "output_type": "execute_result"
    }
   ],
   "source": [
    "b.remove(5)\n",
    "b"
   ]
  },
  {
   "cell_type": "markdown",
   "id": "5324ba06",
   "metadata": {},
   "source": [
    "pop - remove de forma arbitrária um valor"
   ]
  },
  {
   "cell_type": "code",
   "execution_count": 21,
   "id": "d2b933c8",
   "metadata": {},
   "outputs": [
    {
     "data": {
      "text/plain": [
       "3"
      ]
     },
     "execution_count": 21,
     "metadata": {},
     "output_type": "execute_result"
    }
   ],
   "source": [
    "b.pop()"
   ]
  },
  {
   "cell_type": "markdown",
   "id": "acebc50e",
   "metadata": {},
   "source": [
    "difference - verifica a diferença dos elementos"
   ]
  },
  {
   "cell_type": "code",
   "execution_count": 22,
   "id": "e14e81f7",
   "metadata": {},
   "outputs": [
    {
     "data": {
      "text/plain": [
       "{1, 3}"
      ]
     },
     "execution_count": 22,
     "metadata": {},
     "output_type": "execute_result"
    }
   ],
   "source": [
    "a = {1, 2, 3, 4}\n",
    "b = {2, 4, 5, 6}\n",
    "a.difference(b)"
   ]
  },
  {
   "cell_type": "code",
   "execution_count": 23,
   "id": "9511acc5",
   "metadata": {},
   "outputs": [
    {
     "data": {
      "text/plain": [
       "{5, 6}"
      ]
     },
     "execution_count": 23,
     "metadata": {},
     "output_type": "execute_result"
    }
   ],
   "source": [
    "b.difference(a)"
   ]
  },
  {
   "cell_type": "code",
   "execution_count": 24,
   "id": "3cdc521d",
   "metadata": {},
   "outputs": [
    {
     "data": {
      "text/plain": [
       "{1, 3}"
      ]
     },
     "execution_count": 24,
     "metadata": {},
     "output_type": "execute_result"
    }
   ],
   "source": [
    "a - b"
   ]
  },
  {
   "cell_type": "code",
   "execution_count": 25,
   "id": "3c6648b0",
   "metadata": {},
   "outputs": [
    {
     "data": {
      "text/plain": [
       "{5, 6}"
      ]
     },
     "execution_count": 25,
     "metadata": {},
     "output_type": "execute_result"
    }
   ],
   "source": [
    "b - a"
   ]
  },
  {
   "cell_type": "markdown",
   "id": "84f61f84",
   "metadata": {},
   "source": [
    "symmetric_difference - mostra os valores diferentes das duas variáveis"
   ]
  },
  {
   "cell_type": "code",
   "execution_count": 27,
   "id": "853b30fa",
   "metadata": {},
   "outputs": [
    {
     "data": {
      "text/plain": [
       "{1, 3, 5, 6}"
      ]
     },
     "execution_count": 27,
     "metadata": {},
     "output_type": "execute_result"
    }
   ],
   "source": [
    "a.symmetric_difference(b)"
   ]
  },
  {
   "cell_type": "code",
   "execution_count": 26,
   "id": "ec3d89c5",
   "metadata": {},
   "outputs": [
    {
     "data": {
      "text/plain": [
       "{1, 3, 5, 6}"
      ]
     },
     "execution_count": 26,
     "metadata": {},
     "output_type": "execute_result"
    }
   ],
   "source": [
    "a ^ b "
   ]
  },
  {
   "cell_type": "markdown",
   "id": "7726444d",
   "metadata": {},
   "source": [
    "issubset - Verifica se todos os valores da variável contem na outra variável"
   ]
  },
  {
   "cell_type": "code",
   "execution_count": 30,
   "id": "ae032008",
   "metadata": {},
   "outputs": [],
   "source": [
    "val_1 = {1, 2, 3, 4, 5, 6}\n",
    "val_2 = {3, 6, 4}"
   ]
  },
  {
   "cell_type": "code",
   "execution_count": 32,
   "id": "48b5a9ed",
   "metadata": {},
   "outputs": [
    {
     "data": {
      "text/plain": [
       "True"
      ]
     },
     "execution_count": 32,
     "metadata": {},
     "output_type": "execute_result"
    }
   ],
   "source": [
    "val_2.issubset(val_1)"
   ]
  },
  {
   "cell_type": "code",
   "execution_count": 33,
   "id": "f9dc00ef",
   "metadata": {},
   "outputs": [
    {
     "data": {
      "text/plain": [
       "True"
      ]
     },
     "execution_count": 33,
     "metadata": {},
     "output_type": "execute_result"
    }
   ],
   "source": [
    "val_2 <= val_1"
   ]
  },
  {
   "cell_type": "markdown",
   "id": "4aed2391",
   "metadata": {},
   "source": [
    "isdisjoint - retorna true se nenhum elemento contém na outra variável "
   ]
  },
  {
   "cell_type": "code",
   "execution_count": 34,
   "id": "462bf451",
   "metadata": {},
   "outputs": [],
   "source": [
    "val_1 = {1, 2, 5}\n",
    "val_2 = {3, 4, 6}"
   ]
  },
  {
   "cell_type": "code",
   "execution_count": 35,
   "id": "18c3f8cf",
   "metadata": {},
   "outputs": [
    {
     "data": {
      "text/plain": [
       "True"
      ]
     },
     "execution_count": 35,
     "metadata": {},
     "output_type": "execute_result"
    }
   ],
   "source": [
    "val_1.isdisjoint(val_2)"
   ]
  },
  {
   "cell_type": "markdown",
   "id": "530a5eaf",
   "metadata": {},
   "source": [
    "# List, Set and Dict Comprehensions"
   ]
  },
  {
   "cell_type": "markdown",
   "id": "e6df3797",
   "metadata": {},
   "source": [
    "[expr for val in collection if condition]"
   ]
  },
  {
   "cell_type": "markdown",
   "id": "5b0d9e85",
   "metadata": {},
   "source": [
    "A expressão acima é equivalente à:"
   ]
  },
  {
   "cell_type": "code",
   "execution_count": null,
   "id": "d04ab50f",
   "metadata": {},
   "outputs": [],
   "source": [
    "result = []\n",
    "for val in collection:\n",
    "    if condiction:\n",
    "        result.append(expr)"
   ]
  },
  {
   "cell_type": "code",
   "execution_count": 39,
   "id": "dd3a14cf",
   "metadata": {},
   "outputs": [
    {
     "data": {
      "text/plain": [
       "['BAS', 'CAR', 'DOVE', 'PYTHON']"
      ]
     },
     "execution_count": 39,
     "metadata": {},
     "output_type": "execute_result"
    }
   ],
   "source": [
    "strings = ['a', 'as', 'bas', 'car', 'dove', 'python']\n",
    "[x.upper() for x in strings if len(x) > 2]"
   ]
  },
  {
   "cell_type": "code",
   "execution_count": 41,
   "id": "218b924d",
   "metadata": {},
   "outputs": [
    {
     "data": {
      "text/plain": [
       "{1, 2, 3, 4, 6}"
      ]
     },
     "execution_count": 41,
     "metadata": {},
     "output_type": "execute_result"
    }
   ],
   "source": [
    "unique_lengths = {len(x) for x in strings}\n",
    "unique_lengths"
   ]
  },
  {
   "cell_type": "code",
   "execution_count": 42,
   "id": "aa4cabd2",
   "metadata": {},
   "outputs": [
    {
     "data": {
      "text/plain": [
       "{1, 2, 3, 4, 6}"
      ]
     },
     "execution_count": 42,
     "metadata": {},
     "output_type": "execute_result"
    }
   ],
   "source": [
    "set(map(len, strings))"
   ]
  },
  {
   "cell_type": "code",
   "execution_count": 45,
   "id": "8140f7c4",
   "metadata": {},
   "outputs": [
    {
     "data": {
      "text/plain": [
       "{'a': 0, 'as': 1, 'bas': 2, 'car': 3, 'dove': 4, 'python': 5}"
      ]
     },
     "execution_count": 45,
     "metadata": {},
     "output_type": "execute_result"
    }
   ],
   "source": [
    "loc_mapping = {val : index for index, val in enumerate(strings)}\n",
    "loc_mapping"
   ]
  },
  {
   "cell_type": "code",
   "execution_count": 47,
   "id": "d026a00a",
   "metadata": {},
   "outputs": [
    {
     "data": {
      "text/plain": [
       "[1, 2, 3, 4, 5, 6, 7, 8, 9]"
      ]
     },
     "execution_count": 47,
     "metadata": {},
     "output_type": "execute_result"
    }
   ],
   "source": [
    "some_tuples = [(1, 2, 3), (4, 5, 6), (7, 8, 9)]\n",
    "flattened = [x for tup in some_tuples for x in tup]\n",
    "flattened"
   ]
  },
  {
   "cell_type": "code",
   "execution_count": 51,
   "id": "e4aa4164",
   "metadata": {},
   "outputs": [
    {
     "name": "stdout",
     "output_type": "stream",
     "text": [
      "(1, 2, 3)\n",
      "(4, 5, 6)\n",
      "(7, 8, 9)\n"
     ]
    }
   ],
   "source": [
    "for tup in some_tuples:\n",
    "    print(tup)"
   ]
  },
  {
   "cell_type": "code",
   "execution_count": 52,
   "id": "a914a57a",
   "metadata": {},
   "outputs": [
    {
     "name": "stdout",
     "output_type": "stream",
     "text": [
      "1\n",
      "2\n",
      "3\n",
      "4\n",
      "5\n",
      "6\n",
      "7\n",
      "8\n",
      "9\n"
     ]
    }
   ],
   "source": [
    "for tup in some_tuples:\n",
    "    for x in tup:\n",
    "        print(x)"
   ]
  },
  {
   "cell_type": "markdown",
   "id": "61939e31",
   "metadata": {},
   "source": [
    "# FUNCTIONS"
   ]
  },
  {
   "cell_type": "code",
   "execution_count": 2,
   "id": "91d03f11",
   "metadata": {},
   "outputs": [],
   "source": [
    "def my_function(x, y, z=1.5):\n",
    "    if z > 1:\n",
    "      return z * ( x + y )\n",
    "    else:\n",
    "        return z / ( x + y )\n"
   ]
  },
  {
   "cell_type": "code",
   "execution_count": 3,
   "id": "31899725",
   "metadata": {},
   "outputs": [
    {
     "data": {
      "text/plain": [
       "0.06363636363636363"
      ]
     },
     "execution_count": 3,
     "metadata": {},
     "output_type": "execute_result"
    }
   ],
   "source": [
    "my_function(5, 6, z=0.7)"
   ]
  },
  {
   "cell_type": "code",
   "execution_count": 4,
   "id": "2998a05f",
   "metadata": {},
   "outputs": [
    {
     "data": {
      "text/plain": [
       "220"
      ]
     },
     "execution_count": 4,
     "metadata": {},
     "output_type": "execute_result"
    }
   ],
   "source": [
    "my_function(5, 6, 20)"
   ]
  },
  {
   "cell_type": "markdown",
   "id": "3042fbdd",
   "metadata": {},
   "source": [
    "# Namespace, Scope, and Local Functions"
   ]
  },
  {
   "cell_type": "markdown",
   "id": "e260c5d4",
   "metadata": {},
   "source": [
    "Scope = Global e Local "
   ]
  },
  {
   "cell_type": "markdown",
   "id": "d2cabb3d",
   "metadata": {},
   "source": [
    "Variável local "
   ]
  },
  {
   "cell_type": "code",
   "execution_count": 14,
   "id": "71501235",
   "metadata": {},
   "outputs": [],
   "source": [
    "a = []\n",
    "def func():\n",
    "    a = []\n",
    "    for i in range(5):\n",
    "        a.append(i)\n",
    "        print(a)"
   ]
  },
  {
   "cell_type": "code",
   "execution_count": 15,
   "id": "6c07315c",
   "metadata": {},
   "outputs": [
    {
     "name": "stdout",
     "output_type": "stream",
     "text": [
      "[0]\n",
      "[0, 1]\n",
      "[0, 1, 2]\n",
      "[0, 1, 2, 3]\n",
      "[0, 1, 2, 3, 4]\n"
     ]
    },
    {
     "data": {
      "text/plain": [
       "[]"
      ]
     },
     "execution_count": 15,
     "metadata": {},
     "output_type": "execute_result"
    }
   ],
   "source": [
    "func()\n",
    "a"
   ]
  },
  {
   "cell_type": "code",
   "execution_count": 17,
   "id": "0d827960",
   "metadata": {},
   "outputs": [],
   "source": [
    "a = []\n",
    "def func_Global():\n",
    "    global a \n",
    "    a = []\n",
    "    for i in range(5):\n",
    "        a.append(i)\n",
    "        print(a)"
   ]
  },
  {
   "cell_type": "code",
   "execution_count": 18,
   "id": "8de6ad77",
   "metadata": {},
   "outputs": [
    {
     "name": "stdout",
     "output_type": "stream",
     "text": [
      "[0]\n",
      "[0, 1]\n",
      "[0, 1, 2]\n",
      "[0, 1, 2, 3]\n",
      "[0, 1, 2, 3, 4]\n"
     ]
    },
    {
     "data": {
      "text/plain": [
       "[0, 1, 2, 3, 4]"
      ]
     },
     "execution_count": 18,
     "metadata": {},
     "output_type": "execute_result"
    }
   ],
   "source": [
    "func_Global()\n",
    "a"
   ]
  },
  {
   "cell_type": "markdown",
   "id": "c0481c56",
   "metadata": {},
   "source": [
    "# Retorno de multiplas variáveis"
   ]
  },
  {
   "cell_type": "code",
   "execution_count": 19,
   "id": "2469668b",
   "metadata": {},
   "outputs": [],
   "source": [
    "def f():\n",
    "    a = 5\n",
    "    b = 6\n",
    "    c = 10\n",
    "    return a, b, c"
   ]
  },
  {
   "cell_type": "code",
   "execution_count": 21,
   "id": "7eb102e7",
   "metadata": {},
   "outputs": [
    {
     "name": "stdout",
     "output_type": "stream",
     "text": [
      "5 6 10\n"
     ]
    }
   ],
   "source": [
    "x1, x2, x3 = f()\n",
    "print(x1, x2, x3)"
   ]
  },
  {
   "cell_type": "code",
   "execution_count": 22,
   "id": "2617799f",
   "metadata": {},
   "outputs": [],
   "source": [
    "def f_dict():\n",
    "    a = 5\n",
    "    b = 6\n",
    "    c = 10\n",
    "    return {'a':a, 'b': b, 'c': c}"
   ]
  },
  {
   "cell_type": "code",
   "execution_count": 24,
   "id": "714e69af",
   "metadata": {},
   "outputs": [
    {
     "data": {
      "text/plain": [
       "{'a': 5, 'b': 6, 'c': 10}"
      ]
     },
     "execution_count": 24,
     "metadata": {},
     "output_type": "execute_result"
    }
   ],
   "source": [
    "teste = f_dict()\n",
    "teste"
   ]
  },
  {
   "cell_type": "markdown",
   "id": "8819d8f1",
   "metadata": {},
   "source": [
    "# Funções são objetos"
   ]
  },
  {
   "cell_type": "code",
   "execution_count": 29,
   "id": "e7e752e9",
   "metadata": {},
   "outputs": [],
   "source": [
    "state = [' Alabam', ' Georgia!', 'Georgia', 'georgia', 'FLOridA', 'south     Carolina###', 'WesT VirgiNia?']"
   ]
  },
  {
   "cell_type": "code",
   "execution_count": 30,
   "id": "83f68020",
   "metadata": {},
   "outputs": [],
   "source": [
    "import re\n",
    "\n",
    "def limpa_string(strings):\n",
    "    result=[]\n",
    "    for value in strings:\n",
    "        value = value.strip()\n",
    "        value = re.sub('[!#?]', '', value)\n",
    "        value = value.title()\n",
    "        result.append(value)\n",
    "    return result"
   ]
  },
  {
   "cell_type": "code",
   "execution_count": 31,
   "id": "187f3e9e",
   "metadata": {},
   "outputs": [
    {
     "data": {
      "text/plain": [
       "['Alabam',\n",
       " 'Georgia',\n",
       " 'Georgia',\n",
       " 'Georgia',\n",
       " 'Florida',\n",
       " 'South     Carolina',\n",
       " 'West Virginia']"
      ]
     },
     "execution_count": 31,
     "metadata": {},
     "output_type": "execute_result"
    }
   ],
   "source": [
    "limpa_string(state)"
   ]
  },
  {
   "cell_type": "markdown",
   "id": "9a3c5b89",
   "metadata": {},
   "source": [
    "# LAMBDA"
   ]
  },
  {
   "cell_type": "markdown",
   "id": "eecc70f8",
   "metadata": {},
   "source": [
    "Lambda é uma função \"Anônima\""
   ]
  },
  {
   "cell_type": "markdown",
   "id": "292a0d57",
   "metadata": {},
   "source": [
    "Exemplo de uma função"
   ]
  },
  {
   "cell_type": "code",
   "execution_count": 1,
   "id": "48aea279",
   "metadata": {},
   "outputs": [
    {
     "name": "stdout",
     "output_type": "stream",
     "text": [
      "8\n"
     ]
    }
   ],
   "source": [
    "def funcao_1(x):\n",
    "    return x * 2\n",
    "print(funcao_1(4))"
   ]
  },
  {
   "cell_type": "markdown",
   "id": "1a812a81",
   "metadata": {},
   "source": [
    "Exemplo de uma função Lambda"
   ]
  },
  {
   "cell_type": "code",
   "execution_count": 3,
   "id": "585ccf75",
   "metadata": {},
   "outputs": [
    {
     "name": "stdout",
     "output_type": "stream",
     "text": [
      "8\n"
     ]
    }
   ],
   "source": [
    "funcao_lambda = lambda x:x * 2\n",
    "print(funcao_lambda(4))"
   ]
  },
  {
   "cell_type": "code",
   "execution_count": 5,
   "id": "cb66e7c0",
   "metadata": {},
   "outputs": [
    {
     "name": "stdout",
     "output_type": "stream",
     "text": [
      "[30.0, 60.0, 6.0, 27.0]\n"
     ]
    }
   ],
   "source": [
    "precos = [100, 200, 20, 90]\n",
    "\n",
    "imposto = list(map(lambda x:x*0.3, precos))\n",
    "print(imposto)"
   ]
  },
  {
   "cell_type": "code",
   "execution_count": 8,
   "id": "7b0c4dce",
   "metadata": {},
   "outputs": [],
   "source": [
    "some_dict = {'a' : 1, 'b' : 2, 'c' : 3}"
   ]
  },
  {
   "cell_type": "markdown",
   "id": "403e62b2",
   "metadata": {},
   "source": [
    "iter faz a extração apenas das chaves do dict"
   ]
  },
  {
   "cell_type": "code",
   "execution_count": 11,
   "id": "6ea34279",
   "metadata": {},
   "outputs": [
    {
     "data": {
      "text/plain": [
       "['a', 'b', 'c']"
      ]
     },
     "execution_count": 11,
     "metadata": {},
     "output_type": "execute_result"
    }
   ],
   "source": [
    "teste = iter(some_dict)\n",
    "list(teste)"
   ]
  },
  {
   "cell_type": "markdown",
   "id": "ef08ddf6",
   "metadata": {},
   "source": [
    "yield só retorna os valores quando é chamado, e ele retorna vários valores"
   ]
  },
  {
   "cell_type": "code",
   "execution_count": 15,
   "id": "a41f2de8",
   "metadata": {},
   "outputs": [],
   "source": [
    "def squares(n=10):\n",
    "    print('Generating squares from 1 to {0}'.format(n ** 2))\n",
    "    for i in range(1, n + 1):\n",
    "        yield i ** 2"
   ]
  },
  {
   "cell_type": "code",
   "execution_count": 23,
   "id": "f337908f",
   "metadata": {},
   "outputs": [],
   "source": [
    "gen = squares()"
   ]
  },
  {
   "cell_type": "code",
   "execution_count": 24,
   "id": "3c727ef2",
   "metadata": {},
   "outputs": [
    {
     "name": "stdout",
     "output_type": "stream",
     "text": [
      "Generating squares from 1 to 100\n",
      "1 4 9 16 25 36 49 64 81 100 "
     ]
    }
   ],
   "source": [
    "for x in gen:\n",
    "    print(x, end=' ')"
   ]
  },
  {
   "cell_type": "markdown",
   "id": "17e0a310",
   "metadata": {},
   "source": [
    "Quando o laço para no return o laço é interrompido, com o yield não "
   ]
  },
  {
   "cell_type": "code",
   "execution_count": 35,
   "id": "92468327",
   "metadata": {},
   "outputs": [],
   "source": [
    "def squares_2(n):\n",
    "    print('Generating squares from 1 to {0}'.format(n ** 2))\n",
    "    for i in range(1, n + 1):\n",
    "        print(i)\n",
    "        return i ** 2"
   ]
  },
  {
   "cell_type": "code",
   "execution_count": 37,
   "id": "dc856a98",
   "metadata": {},
   "outputs": [
    {
     "name": "stdout",
     "output_type": "stream",
     "text": [
      "Generating squares from 1 to 100\n",
      "1\n"
     ]
    },
    {
     "data": {
      "text/plain": [
       "1"
      ]
     },
     "execution_count": 37,
     "metadata": {},
     "output_type": "execute_result"
    }
   ],
   "source": [
    "gen2 = squares_2(10)\n",
    "gen2"
   ]
  },
  {
   "cell_type": "markdown",
   "id": "a2046310",
   "metadata": {},
   "source": [
    "# Generator expressions"
   ]
  },
  {
   "cell_type": "code",
   "execution_count": 41,
   "id": "910b124e",
   "metadata": {},
   "outputs": [
    {
     "data": {
      "text/plain": [
       "<generator object <genexpr> at 0x000002028EB94820>"
      ]
     },
     "execution_count": 41,
     "metadata": {},
     "output_type": "execute_result"
    }
   ],
   "source": [
    "gen = (x ** 2 for x in range(10))\n",
    "gen"
   ]
  },
  {
   "cell_type": "code",
   "execution_count": 42,
   "id": "bdb394f0",
   "metadata": {},
   "outputs": [
    {
     "data": {
      "text/plain": [
       "[0, 1, 4, 9, 16, 25, 36, 49, 64, 81]"
      ]
     },
     "execution_count": 42,
     "metadata": {},
     "output_type": "execute_result"
    }
   ],
   "source": [
    "list(gen)"
   ]
  },
  {
   "cell_type": "code",
   "execution_count": 43,
   "id": "195c98a3",
   "metadata": {},
   "outputs": [
    {
     "data": {
      "text/plain": [
       "328350"
      ]
     },
     "execution_count": 43,
     "metadata": {},
     "output_type": "execute_result"
    }
   ],
   "source": [
    "sum (x ** 2 for x in range(100))"
   ]
  },
  {
   "cell_type": "code",
   "execution_count": 44,
   "id": "590eff6a",
   "metadata": {},
   "outputs": [
    {
     "data": {
      "text/plain": [
       "{0: 0, 1: 1, 2: 4, 3: 9, 4: 16}"
      ]
     },
     "execution_count": 44,
     "metadata": {},
     "output_type": "execute_result"
    }
   ],
   "source": [
    "dict((i, i ** 2) for i in range(5))"
   ]
  },
  {
   "cell_type": "markdown",
   "id": "d1bcde2c",
   "metadata": {},
   "source": [
    "# Itertools modules"
   ]
  },
  {
   "cell_type": "code",
   "execution_count": 59,
   "id": "5ba5a786",
   "metadata": {},
   "outputs": [],
   "source": [
    "import itertools\n",
    "first_letter = lambda x: x[0]\n",
    "nomes = ['Alan', 'Adam', 'Wes', 'Will', 'Slbert', 'Ateven']"
   ]
  },
  {
   "cell_type": "markdown",
   "id": "e0e042f3",
   "metadata": {},
   "source": [
    "groupby pega uma sequência a um função, agrupa os elementos consecutivos em um sequência"
   ]
  },
  {
   "cell_type": "code",
   "execution_count": 61,
   "id": "fe1728c6",
   "metadata": {},
   "outputs": [
    {
     "name": "stdout",
     "output_type": "stream",
     "text": [
      "A ['Alan', 'Adam']\n",
      "W ['Wes', 'Will']\n",
      "S ['Slbert']\n",
      "A ['Ateven']\n"
     ]
    }
   ],
   "source": [
    "for letter, names in itertools.groupby(nomes, first_letter):\n",
    "    print(letter, list(names))"
   ]
  },
  {
   "cell_type": "markdown",
   "id": "00af4044",
   "metadata": {},
   "source": [
    "# Errors and Exception Handling"
   ]
  },
  {
   "cell_type": "code",
   "execution_count": 62,
   "id": "443ca5ad",
   "metadata": {},
   "outputs": [],
   "source": [
    "def attempt_float(x):\n",
    "    try: \n",
    "        return float(x)\n",
    "    except:\n",
    "        return x"
   ]
  },
  {
   "cell_type": "code",
   "execution_count": 63,
   "id": "5e674705",
   "metadata": {},
   "outputs": [
    {
     "data": {
      "text/plain": [
       "1.234325"
      ]
     },
     "execution_count": 63,
     "metadata": {},
     "output_type": "execute_result"
    }
   ],
   "source": [
    "attempt_float('1.234325')"
   ]
  },
  {
   "cell_type": "code",
   "execution_count": 64,
   "id": "ceb03fc9",
   "metadata": {},
   "outputs": [
    {
     "data": {
      "text/plain": [
       "'something'"
      ]
     },
     "execution_count": 64,
     "metadata": {},
     "output_type": "execute_result"
    }
   ],
   "source": [
    "attempt_float('something')"
   ]
  },
  {
   "cell_type": "code",
   "execution_count": 65,
   "id": "0c076a00",
   "metadata": {},
   "outputs": [
    {
     "data": {
      "text/plain": [
       "(1, 2, 3)"
      ]
     },
     "execution_count": 65,
     "metadata": {},
     "output_type": "execute_result"
    }
   ],
   "source": [
    "attempt_float((1,2,3))"
   ]
  },
  {
   "cell_type": "code",
   "execution_count": 2,
   "id": "a7f5286a",
   "metadata": {},
   "outputs": [],
   "source": [
    "def attemp_float2(x):\n",
    "    try:\n",
    "        return float(x)\n",
    "    except (TypeError, ValueError):\n",
    "        return x\n"
   ]
  },
  {
   "cell_type": "code",
   "execution_count": 8,
   "id": "4481b7ed",
   "metadata": {},
   "outputs": [
    {
     "data": {
      "text/plain": [
       "str"
      ]
     },
     "execution_count": 8,
     "metadata": {},
     "output_type": "execute_result"
    }
   ],
   "source": [
    "teste = attemp_float2('Teste')\n",
    "type(teste)"
   ]
  },
  {
   "cell_type": "code",
   "execution_count": 9,
   "id": "d490e491",
   "metadata": {},
   "outputs": [
    {
     "data": {
      "text/plain": [
       "float"
      ]
     },
     "execution_count": 9,
     "metadata": {},
     "output_type": "execute_result"
    }
   ],
   "source": [
    "teste = attemp_float2('123.98')\n",
    "type(teste)"
   ]
  },
  {
   "cell_type": "code",
   "execution_count": 11,
   "id": "4d4cac05",
   "metadata": {},
   "outputs": [
    {
     "ename": "NameError",
     "evalue": "name 'path' is not defined",
     "output_type": "error",
     "traceback": [
      "\u001b[1;31m---------------------------------------------------------------------------\u001b[0m",
      "\u001b[1;31mNameError\u001b[0m                                 Traceback (most recent call last)",
      "\u001b[1;32m<ipython-input-11-9e425aa0e563>\u001b[0m in \u001b[0;36m<module>\u001b[1;34m\u001b[0m\n\u001b[1;32m----> 1\u001b[1;33m \u001b[0mf\u001b[0m \u001b[1;33m=\u001b[0m \u001b[0mopen\u001b[0m\u001b[1;33m(\u001b[0m\u001b[0mpath\u001b[0m\u001b[1;33m,\u001b[0m \u001b[1;34m'w'\u001b[0m\u001b[1;33m)\u001b[0m\u001b[1;33m\u001b[0m\u001b[1;33m\u001b[0m\u001b[0m\n\u001b[0m\u001b[0;32m      2\u001b[0m \u001b[1;32mtry\u001b[0m\u001b[1;33m:\u001b[0m\u001b[1;33m\u001b[0m\u001b[1;33m\u001b[0m\u001b[0m\n\u001b[0;32m      3\u001b[0m     \u001b[0mwrite_to_file\u001b[0m\u001b[1;33m(\u001b[0m\u001b[0mf\u001b[0m\u001b[1;33m)\u001b[0m\u001b[1;33m\u001b[0m\u001b[1;33m\u001b[0m\u001b[0m\n\u001b[0;32m      4\u001b[0m \u001b[1;32mexcept\u001b[0m\u001b[1;33m:\u001b[0m\u001b[1;33m\u001b[0m\u001b[1;33m\u001b[0m\u001b[0m\n\u001b[0;32m      5\u001b[0m     \u001b[0mprint\u001b[0m\u001b[1;33m(\u001b[0m\u001b[1;34m'Failed'\u001b[0m\u001b[1;33m)\u001b[0m\u001b[1;33m\u001b[0m\u001b[1;33m\u001b[0m\u001b[0m\n",
      "\u001b[1;31mNameError\u001b[0m: name 'path' is not defined"
     ]
    }
   ],
   "source": [
    "f = open(path, 'w')\n",
    "try:\n",
    "    write_to_file(f)\n",
    "except:\n",
    "    print('Failed')\n",
    "else:\n",
    "    print('Succeeded')\n",
    "finally:\n",
    "    f.close()"
   ]
  },
  {
   "cell_type": "markdown",
   "id": "11913f83",
   "metadata": {},
   "source": [
    "# 3.3 Files and the Operating System"
   ]
  },
  {
   "cell_type": "code",
   "execution_count": 17,
   "id": "72673627",
   "metadata": {},
   "outputs": [
    {
     "data": {
      "text/plain": [
       "<_io.TextIOWrapper name='teste.txt' mode='r' encoding='cp1252'>"
      ]
     },
     "execution_count": 17,
     "metadata": {},
     "output_type": "execute_result"
    }
   ],
   "source": [
    "path = 'teste.txt'\n",
    "f = open(path)\n",
    "f"
   ]
  },
  {
   "cell_type": "code",
   "execution_count": 19,
   "id": "fff3aef5",
   "metadata": {},
   "outputs": [
    {
     "data": {
      "text/plain": [
       "['Get complete instructions for manipulating, processing, cleaning, and crunching datasets in Python. Updated for Python 3.6, the second edition of this hands-on guide is packed with practical case studies that show you how to solve a broad set of data analysis problems effectively. Youâ€™ll learn the latest versions of pandas, NumPy, IPython, and Jupiter in the process.',\n",
       " '',\n",
       " 'Written by Wes McKinney, the creator of the Python pandas project, this book is a practical, modern introduction to data science tools in Python. Itâ€™s ideal for analysts new to Python and for Python programmers new to data science and scientific computing. Data files and related material are available on GitHub.',\n",
       " '',\n",
       " 'Use the IPython shell and Jupiter notebook for exploratory computing',\n",
       " 'Learn basic and advanced features in NumPy (Numerical Python)',\n",
       " 'Get started with data analysis tools in the pandas library',\n",
       " 'Use flexible tools to load, clean, transform, merge, and reshape data',\n",
       " 'Create informative visualizations with matplotlib',\n",
       " 'Apply the pandas group by facility to slice, dice, and summarize datasets',\n",
       " 'Analyze and manipulate regular and irregular time series data',\n",
       " 'Learn how to solve real-world data analysis problems with thorough, detailed examples']"
      ]
     },
     "execution_count": 19,
     "metadata": {},
     "output_type": "execute_result"
    }
   ],
   "source": [
    "lines = [x.rstrip() for x in open(path)]\n",
    "lines"
   ]
  },
  {
   "cell_type": "code",
   "execution_count": 21,
   "id": "396b32a7",
   "metadata": {},
   "outputs": [],
   "source": [
    "f.close()"
   ]
  },
  {
   "cell_type": "code",
   "execution_count": 27,
   "id": "0c76ad30",
   "metadata": {},
   "outputs": [
    {
     "name": "stdout",
     "output_type": "stream",
     "text": [
      "['Get complete instructions for manipulating, processing, cleaning, and crunching datasets in Python. Updated for Python 3.6, the second edition of this hands-on guide is packed with practical case studies that show you how to solve a broad set of data analysis problems effectively. Youâ€™ll learn the latest versions of pandas, NumPy, IPython, and Jupiter in the process.', '', 'Written by Wes McKinney, the creator of the Python pandas project, this book is a practical, modern introduction to data science tools in Python. Itâ€™s ideal for analysts new to Python and for Python programmers new to data science and scientific computing. Data files and related material are available on GitHub.', '', 'Use the IPython shell and Jupiter notebook for exploratory computing', 'Learn basic and advanced features in NumPy (Numerical Python)', 'Get started with data analysis tools in the pandas library', 'Use flexible tools to load, clean, transform, merge, and reshape data', 'Create informative visualizations with matplotlib', 'Apply the pandas group by facility to slice, dice, and summarize datasets', 'Analyze and manipulate regular and irregular time series data', 'Learn how to solve real-world data analysis problems with thorough, detailed examples', 'trs', 'asd', 'asasd', '', 'asd', 'das', 'asd', 'asd', 'ds', 'das', 'asd', 'a', 'das']\n"
     ]
    }
   ],
   "source": [
    "with open(path) as f:\n",
    "    lines = [x.rstrip() for x in f]\n",
    "    print(lines)"
   ]
  },
  {
   "cell_type": "code",
   "execution_count": 49,
   "id": "a1f42702",
   "metadata": {},
   "outputs": [
    {
     "data": {
      "text/plain": [
       "'Get complete instructions for manipulating, proces'"
      ]
     },
     "execution_count": 49,
     "metadata": {},
     "output_type": "execute_result"
    }
   ],
   "source": [
    "f = open(path)\n",
    "f.read(50)"
   ]
  },
  {
   "cell_type": "markdown",
   "id": "b2d79d5f",
   "metadata": {},
   "source": [
    "'rb' Modo Binário"
   ]
  },
  {
   "cell_type": "code",
   "execution_count": 31,
   "id": "a785f963",
   "metadata": {},
   "outputs": [
    {
     "data": {
      "text/plain": [
       "b'Get comple'"
      ]
     },
     "execution_count": 31,
     "metadata": {},
     "output_type": "execute_result"
    }
   ],
   "source": [
    "f2 = open(path, 'rb')\n",
    "f2.read(10)"
   ]
  },
  {
   "cell_type": "code",
   "execution_count": 33,
   "id": "3e953dc8",
   "metadata": {},
   "outputs": [
    {
     "data": {
      "text/plain": [
       "10"
      ]
     },
     "execution_count": 33,
     "metadata": {},
     "output_type": "execute_result"
    }
   ],
   "source": [
    "f.tell()"
   ]
  },
  {
   "cell_type": "code",
   "execution_count": 36,
   "id": "fd243b66",
   "metadata": {},
   "outputs": [
    {
     "data": {
      "text/plain": [
       "'utf-8'"
      ]
     },
     "execution_count": 36,
     "metadata": {},
     "output_type": "execute_result"
    }
   ],
   "source": [
    "import sys\n",
    "sys.getdefaultencoding()"
   ]
  },
  {
   "cell_type": "code",
   "execution_count": 56,
   "id": "ecfe57cc",
   "metadata": {},
   "outputs": [
    {
     "data": {
      "text/plain": [
       "2"
      ]
     },
     "execution_count": 56,
     "metadata": {},
     "output_type": "execute_result"
    }
   ],
   "source": [
    "f.seek(2)"
   ]
  },
  {
   "cell_type": "code",
   "execution_count": 57,
   "id": "3949066a",
   "metadata": {},
   "outputs": [
    {
     "data": {
      "text/plain": [
       "'t'"
      ]
     },
     "execution_count": 57,
     "metadata": {},
     "output_type": "execute_result"
    }
   ],
   "source": [
    "f.read(1)"
   ]
  },
  {
   "cell_type": "markdown",
   "id": "40bf440d",
   "metadata": {},
   "source": [
    ".read - Le a quantidade de letras\n",
    ".seek - Move o cursor"
   ]
  },
  {
   "cell_type": "code",
   "execution_count": 58,
   "id": "96804375",
   "metadata": {},
   "outputs": [],
   "source": [
    "f.close()\n",
    "f2.close()"
   ]
  },
  {
   "cell_type": "markdown",
   "id": "cc73bb03",
   "metadata": {},
   "source": [
    "r - read-only\n",
    "w - write, creates a new file\n",
    "x - write, creates a new file, but fails if the file path already exists\n",
    "a - append to existing file(create the file if it does not already exist)\n",
    "r+ - read an write\n",
    "b, 'rb' or 'wb'- add to modo for binary \n",
    "t - text mode for files(automatically decoding bytes to Unicode)"
   ]
  },
  {
   "cell_type": "code",
   "execution_count": 59,
   "id": "dd98e229",
   "metadata": {},
   "outputs": [],
   "source": [
    "with open('tmp.txt', 'w') as handle:\n",
    "    handle.writelines(x for x in open(path) if len(x)>1)"
   ]
  },
  {
   "cell_type": "code",
   "execution_count": 60,
   "id": "31303824",
   "metadata": {},
   "outputs": [
    {
     "data": {
      "text/plain": [
       "['Get complete instructions for manipulating, processing, cleaning, and crunching datasets in Python. Updated for Python 3.6, the second edition of this hands-on guide is packed with practical case studies that show you how to solve a broad set of data analysis problems effectively. Youâ€™ll learn the latest versions of pandas, NumPy, IPython, and Jupiter in the process.\\n',\n",
       " 'Written by Wes McKinney, the creator of the Python pandas project, this book is a practical, modern introduction to data science tools in Python. Itâ€™s ideal for analysts new to Python and for Python programmers new to data science and scientific computing. Data files and related material are available on GitHub.\\n',\n",
       " 'Use the IPython shell and Jupiter notebook for exploratory computing\\n',\n",
       " 'Learn basic and advanced features in NumPy (Numerical Python)\\n',\n",
       " 'Get started with data analysis tools in the pandas library\\n',\n",
       " 'Use flexible tools to load, clean, transform, merge, and reshape data\\n',\n",
       " 'Create informative visualizations with matplotlib\\n',\n",
       " 'Apply the pandas group by facility to slice, dice, and summarize datasets\\n',\n",
       " 'Analyze and manipulate regular and irregular time series data\\n',\n",
       " 'Learn how to solve real-world data analysis problems with thorough, detailed examples\\n',\n",
       " 'trs\\n',\n",
       " 'asd\\n',\n",
       " 'asasd\\n',\n",
       " 'asd\\n',\n",
       " 'das\\n',\n",
       " 'asd\\n',\n",
       " 'asd\\n',\n",
       " 'ds\\n',\n",
       " 'das\\n',\n",
       " 'asd\\n',\n",
       " 'a\\n',\n",
       " 'das']"
      ]
     },
     "execution_count": 60,
     "metadata": {},
     "output_type": "execute_result"
    }
   ],
   "source": [
    "with open('tmp.txt') as f:\n",
    "    lines = f.readlines()\n",
    "lines"
   ]
  },
  {
   "cell_type": "markdown",
   "id": "216db427",
   "metadata": {},
   "source": []
  }
 ],
 "metadata": {
  "kernelspec": {
   "display_name": "Python 3",
   "language": "python",
   "name": "python3"
  },
  "language_info": {
   "codemirror_mode": {
    "name": "ipython",
    "version": 3
   },
   "file_extension": ".py",
   "mimetype": "text/x-python",
   "name": "python",
   "nbconvert_exporter": "python",
   "pygments_lexer": "ipython3",
   "version": "3.9.6"
  }
 },
 "nbformat": 4,
 "nbformat_minor": 5
}
