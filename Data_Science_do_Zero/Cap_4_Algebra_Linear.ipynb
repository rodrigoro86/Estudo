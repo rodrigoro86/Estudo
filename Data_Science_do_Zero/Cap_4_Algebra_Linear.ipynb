{
 "cells": [
  {
   "cell_type": "markdown",
   "id": "c200e565",
   "metadata": {},
   "source": [
    "A álgebra linear é o ramo da matemática que calcula espaços vetoriais. "
   ]
  },
  {
   "cell_type": "markdown",
   "id": "9fc6a585",
   "metadata": {},
   "source": [
    "# Vetores"
   ]
  },
  {
   "cell_type": "markdown",
   "id": "18f2d47b",
   "metadata": {},
   "source": [
    "Vetores são pontos em um espaço de dimensão finita"
   ]
  },
  {
   "cell_type": "code",
   "execution_count": 1,
   "id": "641d0dad",
   "metadata": {},
   "outputs": [],
   "source": [
    "from typing import List\n",
    "import matplotlib.pyplot as plt\n",
    "%matplotlib inline\n",
    "\n",
    "Vector = List[float]\n",
    "height_weight_age = [70, #Polegadas\n",
    "                    170, #libras\n",
    "                    40]  #anos\n",
    "grades = [95, #Teste1\n",
    "         80,  #Teste2\n",
    "         75,  #Teste3\n",
    "         65]  #Teste4"
   ]
  },
  {
   "cell_type": "code",
   "execution_count": 2,
   "id": "7b2b5992",
   "metadata": {},
   "outputs": [
    {
     "data": {
      "image/png": "[encoded data removed]",
      "text/plain": [
       "<Figure size 432x288 with 1 Axes>"
      ]
     },
     "metadata": {
      "needs_background": "light"
     },
     "output_type": "display_data"
    }
   ],
   "source": [
    "fig, ax = plt.subplots()\n",
    "    \n",
    "x_pos = [1, 2]\n",
    "y_pos = [1, 2]\n",
    "x_direct = [1, 0]\n",
    "y_direct = [1, -1]\n",
    "    \n",
    "ax.quiver(x_pos, y_pos, x_direct, y_direct, scale=1)\n",
    "ax.axis([0, 4, 0, 4])\n",
    "    \n",
    "plt.show()"
   ]
  },
  {
   "cell_type": "code",
   "execution_count": 3,
   "id": "5568a8b1",
   "metadata": {},
   "outputs": [
    {
     "data": {
      "image/png": "[encoded data removed]",
      "text/plain": [
       "<Figure size 432x288 with 1 Axes>"
      ]
     },
     "metadata": {
      "needs_background": "light"
     },
     "output_type": "display_data"
    }
   ],
   "source": [
    "fig, ax = plt.subplots()\n",
    "    \n",
    "ax.plot([0,1],[0,2],'k--', marker='o')\n",
    "ax.plot([0,2],[0,1],'k--')\n",
    "ax.plot([0,3],[0,3])\n",
    "ax.plot([1,3],[2,3])\n",
    "ax.plot([2,3],[1,3])\n",
    "    \n",
    "plt.show()"
   ]
  },
  {
   "cell_type": "code",
   "execution_count": 4,
   "id": "2f810e27",
   "metadata": {},
   "outputs": [],
   "source": [
    "def add(v: Vector, w: Vector) -> Vector:\n",
    "    \"\"\"Soma os elementos correspondentes\"\"\"\n",
    "    assert len(v) == len(w), 'vectors must be the same length'\n",
    "    return [v_i + w_i for v_i, w_i in zip(v, w)]"
   ]
  },
  {
   "cell_type": "code",
   "execution_count": 5,
   "id": "0663679d",
   "metadata": {},
   "outputs": [
    {
     "data": {
      "text/plain": [
       "[5, 7, 9]"
      ]
     },
     "execution_count": 5,
     "metadata": {},
     "output_type": "execute_result"
    }
   ],
   "source": [
    "assert add([1, 2, 3], [4, 5, 6]) == [5, 7, 9]\n",
    "add([1, 2, 3], [4, 5, 6])"
   ]
  },
  {
   "cell_type": "code",
   "execution_count": 6,
   "id": "f5becefe",
   "metadata": {},
   "outputs": [],
   "source": [
    "def subtract(v: Vector, w: Vector) -> Vector:\n",
    "    \"\"\"Subtrai os elementos correspondentes\"\"\"\n",
    "    assert len(v) == len(w), 'verifica se os vetores tem o mesmo espaço'\n",
    "    return [v_i - w_i for v_i, w_i in zip(v, w)]"
   ]
  },
  {
   "cell_type": "code",
   "execution_count": 7,
   "id": "281de4e7",
   "metadata": {},
   "outputs": [
    {
     "data": {
      "text/plain": [
       "[1, 2, 3]"
      ]
     },
     "execution_count": 7,
     "metadata": {},
     "output_type": "execute_result"
    }
   ],
   "source": [
    "assert subtract([5, 7, 9], [4, 5, 6]) == [1, 2, 3], \"ERRORRRRR!!!\"\n",
    "subtract([5, 7, 9], [4, 5, 6])"
   ]
  },
  {
   "cell_type": "code",
   "execution_count": 8,
   "id": "4cbf7cba",
   "metadata": {},
   "outputs": [],
   "source": [
    "def vector_sum(vectors: List[Vector]) -> Vector:\n",
    "    \"\"\"Soma todos os elementos correspondentes\"\"\"\n",
    "    #Verifica se todos os elementos não estão vazios \n",
    "    assert vectors, 'Vetor Vazio!!!'\n",
    "    \n",
    "    #Verifica se os vetores são do mesmo tamanho\n",
    "    num_elements = len(vectors[0])\n",
    "    assert all(len(v) == num_elements for v in vectors), 'Vetores com tamanhos diferentes !!!!'\n",
    "    \n",
    "    #O elemento de n° i do resultado é a soma de todo vector[i]\n",
    "    return [sum(vector[i] for vector in vectors)\n",
    "           for i in range(num_elements)]"
   ]
  },
  {
   "cell_type": "code",
   "execution_count": 9,
   "id": "c9c1d330",
   "metadata": {},
   "outputs": [
    {
     "data": {
      "text/plain": [
       "[16, 20]"
      ]
     },
     "execution_count": 9,
     "metadata": {},
     "output_type": "execute_result"
    }
   ],
   "source": [
    "assert vector_sum([[1, 2], [3, 4], [5, 6], [7, 8]]) == [16, 20]\n",
    "vector_sum([[1, 2], [3, 4], [5, 6], [7, 8]]) "
   ]
  },
  {
   "cell_type": "code",
   "execution_count": 10,
   "id": "3c97965a",
   "metadata": {},
   "outputs": [],
   "source": [
    "def scalar_multiply(c: float, v: Vector) -> Vector:\n",
    "    \"\"\"Multiplica cada elemento por c\"\"\"\n",
    "    assert v, 'Vetor vazio !!!!'\n",
    "    assert type(c) == float or type(c) == int, 'O multiplicador tem que ser um número'\n",
    "    return [c * v_i for v_i in v]"
   ]
  },
  {
   "cell_type": "code",
   "execution_count": 11,
   "id": "55d6e2c8",
   "metadata": {},
   "outputs": [
    {
     "data": {
      "text/plain": [
       "[2, 4, 6]"
      ]
     },
     "execution_count": 11,
     "metadata": {},
     "output_type": "execute_result"
    }
   ],
   "source": [
    "assert scalar_multiply(2, [1, 2, 3]) == [2, 4, 6]\n",
    "scalar_multiply(2, [1, 2, 3])"
   ]
  },
  {
   "cell_type": "code",
   "execution_count": 12,
   "id": "e7b9135a",
   "metadata": {},
   "outputs": [],
   "source": [
    "def vector_mean(vectors: List[Vector]) -> Vector:\n",
    "    \"\"\"Computa a média dos elementos\"\"\"\n",
    "    n = len(vectors)\n",
    "    return scalar_multiply(1/n, vector_sum(vectors))"
   ]
  },
  {
   "cell_type": "code",
   "execution_count": 13,
   "id": "6b42e406",
   "metadata": {},
   "outputs": [
    {
     "data": {
      "text/plain": [
       "[3.0, 4.0]"
      ]
     },
     "execution_count": 13,
     "metadata": {},
     "output_type": "execute_result"
    }
   ],
   "source": [
    "assert vector_mean([[1, 2], [3, 4], [5, 6]]) == [3, 4]\n",
    "vector_mean([[1, 2], [3, 4], [5, 6]])"
   ]
  },
  {
   "cell_type": "code",
   "execution_count": 14,
   "id": "d135f47b",
   "metadata": {},
   "outputs": [],
   "source": [
    "# Produto escalar de dois vetores \n",
    "def dot(v: Vector, w: Vector) -> float:\n",
    "    \"\"\"Computa v_1 * w_1 + ... + v_n * w_n\"\"\"\n",
    "    assert len(v) == len(w), \"Vetores não tem os mesmos tamanhos\"\n",
    "    return sum(v_i * w_i for v_i, w_i in zip(v,w))"
   ]
  },
  {
   "cell_type": "code",
   "execution_count": 15,
   "id": "25d78880",
   "metadata": {},
   "outputs": [],
   "source": [
    "assert dot([1, 2, 3], [4, 5, 6]) == 32 #1* 4 + 2 * 5 + 3* 6"
   ]
  },
  {
   "cell_type": "code",
   "execution_count": 16,
   "id": "4c940907",
   "metadata": {},
   "outputs": [],
   "source": [
    "#Soma dos quadrados\n",
    "\n",
    "def sum_of_squares(v: Vector) -> float:\n",
    "    \"\"\"Retorna v_1 * v_1 + ... + v_n * v_n\"\"\"\n",
    "    return dot(v, v)"
   ]
  },
  {
   "cell_type": "code",
   "execution_count": 17,
   "id": "800a0e07",
   "metadata": {},
   "outputs": [
    {
     "data": {
      "text/plain": [
       "14"
      ]
     },
     "execution_count": 17,
     "metadata": {},
     "output_type": "execute_result"
    }
   ],
   "source": [
    "assert sum_of_squares([1, 2, 3]) == 14\n",
    "sum_of_squares([1, 2, 3]) "
   ]
  },
  {
   "cell_type": "code",
   "execution_count": 18,
   "id": "efa5da20",
   "metadata": {},
   "outputs": [],
   "source": [
    "import math"
   ]
  },
  {
   "cell_type": "code",
   "execution_count": 19,
   "id": "20c52187",
   "metadata": {},
   "outputs": [],
   "source": [
    "def magnitude(v: Vector) -> float:\n",
    "    \"\"\"Retorna a hipotenusa o comprimeto de v\"\"\"\n",
    "    return math.sqrt(sum_of_squares(v))"
   ]
  },
  {
   "cell_type": "code",
   "execution_count": 20,
   "id": "9c5eab2f",
   "metadata": {},
   "outputs": [],
   "source": [
    "assert magnitude([3, 4]) == 5"
   ]
  },
  {
   "cell_type": "code",
   "execution_count": 21,
   "id": "0ca88a2d",
   "metadata": {},
   "outputs": [],
   "source": [
    "def square_distance(v: Vector, w: Vector) -> float:\n",
    "    \"\"\"Computa (v_1 - w_1) ** 2 + ... + (v_1 - w_1) ** 2\"\"\"\n",
    "    return sum_of_squares(subtract(v, w))"
   ]
  },
  {
   "cell_type": "code",
   "execution_count": 22,
   "id": "240f4e5b",
   "metadata": {},
   "outputs": [],
   "source": [
    "def distance(v: Vector, w: Vector) -> float:\n",
    "    \"\"\"Computa a distância entre v e w\"\"\"\n",
    "    return math.sqrt(square_distance(v, w))"
   ]
  },
  {
   "cell_type": "markdown",
   "id": "59bc0c66",
   "metadata": {},
   "source": [
    "# Matriz"
   ]
  },
  {
   "cell_type": "code",
   "execution_count": 24,
   "id": "8bac5f72",
   "metadata": {},
   "outputs": [],
   "source": [
    "# Alias de tipo\n",
    "Matrix = List[List[float]]"
   ]
  },
  {
   "cell_type": "code",
   "execution_count": 25,
   "id": "6422293a",
   "metadata": {},
   "outputs": [],
   "source": [
    "A = [[1, 2, 3], \n",
    "    [4, 5, 6]]\n",
    "B = [[1, 2],\n",
    "    [3, 4],\n",
    "    [5, 6]]"
   ]
  },
  {
   "cell_type": "code",
   "execution_count": 26,
   "id": "922e5b1c",
   "metadata": {},
   "outputs": [
    {
     "data": {
      "text/plain": [
       "[[1, 2, 3], [4, 5, 6]]"
      ]
     },
     "execution_count": 26,
     "metadata": {},
     "output_type": "execute_result"
    }
   ],
   "source": [
    "A"
   ]
  },
  {
   "cell_type": "code",
   "execution_count": 27,
   "id": "373ef352",
   "metadata": {},
   "outputs": [
    {
     "data": {
      "text/plain": [
       "[[1, 2], [3, 4], [5, 6]]"
      ]
     },
     "execution_count": 27,
     "metadata": {},
     "output_type": "execute_result"
    }
   ],
   "source": [
    "B"
   ]
  },
  {
   "cell_type": "code",
   "execution_count": 30,
   "id": "263d26ea",
   "metadata": {},
   "outputs": [
    {
     "data": {
      "text/plain": [
       "2"
      ]
     },
     "execution_count": 30,
     "metadata": {},
     "output_type": "execute_result"
    }
   ],
   "source": [
    "# A matriz tem as linhas\n",
    "len(A)"
   ]
  },
  {
   "cell_type": "code",
   "execution_count": 31,
   "id": "27139e0e",
   "metadata": {},
   "outputs": [
    {
     "data": {
      "text/plain": [
       "3"
      ]
     },
     "execution_count": 31,
     "metadata": {},
     "output_type": "execute_result"
    }
   ],
   "source": [
    "# A matriz tem as colunas\n",
    "len(A[0])"
   ]
  },
  {
   "cell_type": "code",
   "execution_count": 34,
   "id": "f5256637",
   "metadata": {},
   "outputs": [],
   "source": [
    "from typing import Tuple\n",
    "\n",
    "def shape(A: List[List[float]]) -> Tuple[int, int]:\n",
    "    \"\"\"Retorna (n° de linhas de A, n° de colunas de A)\"\"\"\n",
    "    n_linhas = len(A)\n",
    "    n_colunas = len(A[0]) if A else 0 # número de elementos na primeira linha\n",
    "    return n_linhas, n_colunas\n",
    "\n",
    "assert shape(B) == (3, 2)"
   ]
  },
  {
   "cell_type": "markdown",
   "id": "87b92174",
   "metadata": {},
   "source": [
    "Cada linha da matriz n x k é um vetor de comprimento<b> k"
   ]
  },
  {
   "cell_type": "markdown",
   "id": "b8eb6a97",
   "metadata": {},
   "source": [
    "Cada coluna é um vetor de comprimento <b>n"
   ]
  },
  {
   "cell_type": "code",
   "execution_count": 38,
   "id": "2ab716bf",
   "metadata": {},
   "outputs": [],
   "source": [
    "Matrix = List[List[float]]\n",
    "\n",
    "def get_row(A: Matrix, i: int) -> Vector:\n",
    "    \"\"\"Retorna a linha i de A (como um Vector)\"\"\"\n",
    "    return A[i] #A[i] já está na linha i\n",
    "assert get_row(A, 1) == [4, 5, 6]"
   ]
  },
  {
   "cell_type": "code",
   "execution_count": 42,
   "id": "b823e41e",
   "metadata": {},
   "outputs": [
    {
     "data": {
      "text/plain": [
       "[4, 5, 6]"
      ]
     },
     "execution_count": 42,
     "metadata": {},
     "output_type": "execute_result"
    }
   ],
   "source": [
    "A[1]"
   ]
  },
  {
   "cell_type": "code",
   "execution_count": 41,
   "id": "360d5989",
   "metadata": {},
   "outputs": [
    {
     "data": {
      "text/plain": [
       "[1, 4]"
      ]
     },
     "execution_count": 41,
     "metadata": {},
     "output_type": "execute_result"
    }
   ],
   "source": [
    "def get_column(A: Matrix, j: int) -> Vector:\n",
    "    \"\"\"Retorna a coluna j de A (como um Vector)\"\"\"\n",
    "    return [A_i[j]           #elemento j da linha A_i\n",
    "           for A_i in A]     #para cada linha A_i\n",
    "get_column(A, 0)"
   ]
  },
  {
   "cell_type": "code",
   "execution_count": 72,
   "id": "2a1e3988",
   "metadata": {},
   "outputs": [],
   "source": [
    "from typing import Callable\n",
    "\n",
    "def make_matrix(n_linhas: int,\n",
    "               n_colunas: int,\n",
    "               entry_fn: Callable[[int, int], float]) -> Matrix:\n",
    "    \"\"\"\n",
    "    Retorna uma matriz n_linhas X n_colunas cuja entrada (i, j)\n",
    "    é entry_fn(i, j)\n",
    "    \"\"\"\n",
    "    print(entry_fn)\n",
    "    return [[entry_fn(i, j)               #com i, crie uma lista\n",
    "            for j in range(n_colunas)]    # [entry_fn(i,0), .....]\n",
    "           for i in range(n_linhas)]      #crie uma lista para cada i"
   ]
  },
  {
   "cell_type": "code",
   "execution_count": 71,
   "id": "854678a8",
   "metadata": {},
   "outputs": [
    {
     "name": "stdout",
     "output_type": "stream",
     "text": [
      "<function identity_matrix.<locals>.<lambda> at 0x0000020F09FC0E50>\n"
     ]
    },
    {
     "data": {
      "text/plain": [
       "[[1, 0, 0, 0, 0],\n",
       " [0, 1, 0, 0, 0],\n",
       " [0, 0, 1, 0, 0],\n",
       " [0, 0, 0, 1, 0],\n",
       " [0, 0, 0, 0, 1]]"
      ]
     },
     "execution_count": 71,
     "metadata": {},
     "output_type": "execute_result"
    }
   ],
   "source": [
    "def identity_matrix(n: int) -> Matrix:\n",
    "    \"\"\"Retorn a matriz de identidade n x n\"\"\"\n",
    "    return make_matrix(n, n, lambda i, j: 1 if i == j else 0)\n",
    "identity_matrix(5)"
   ]
  },
  {
   "cell_type": "markdown",
   "id": "ecf7f0c8",
   "metadata": {},
   "source": [
    "1° - Podemos utilizar uma matriz para representar um conjunto de dados com múltiplos vetores, considerando cada vetor como uma linha da matriz. Por exemplo, temos a altura, o peso e a idade de mil pessoas e colcamos esses dados em uma matriz 1000 X 3"
   ]
  },
  {
   "cell_type": "markdown",
   "id": "27b73676",
   "metadata": {},
   "source": [
    "2° - Podemos utilizar uma matriz n X k para representar uma função linear que mapeia vetores dimensionais k com relação a vetores dimensionais n "
   ]
  },
  {
   "cell_type": "markdown",
   "id": "adbec539",
   "metadata": {},
   "source": [
    "3° - As matrizes podem representar relações binárias"
   ]
  }
 ],
 "metadata": {
  "kernelspec": {
   "display_name": "Python 3",
   "language": "python",
   "name": "python3"
  },
  "language_info": {
   "codemirror_mode": {
    "name": "ipython",
    "version": 3
   },
   "file_extension": ".py",
   "mimetype": "text/x-python",
   "name": "python",
   "nbconvert_exporter": "python",
   "pygments_lexer": "ipython3",
   "version": "3.9.9"
  }
 },
 "nbformat": 4,
 "nbformat_minor": 5
}
