{
 "cells": [
  {
   "cell_type": "markdown",
   "id": "97ebbc85",
   "metadata": {},
   "source": [
    "Página 4 - 21:03 - 08/09"
   ]
  },
  {
   "cell_type": "markdown",
   "id": "ce684f69",
   "metadata": {},
   "source": [
    "DataSciencester - Indentifique os \"conectores-chave\" entre os cientistas de dados"
   ]
  },
  {
   "cell_type": "code",
   "execution_count": 1,
   "id": "f635560f",
   "metadata": {},
   "outputs": [],
   "source": [
    "\n",
    "users = [{'id': 0, 'name': 'Hero'},\n",
    "        {'id': 1, 'name': 'Dunn'},\n",
    "        {'id': 2, 'name': 'Sue'},\n",
    "        {'id': 3, 'name': 'Chi'},\n",
    "        {'id': 4, 'name': 'Thor'},\n",
    "        {'id': 5, 'name': 'Clive'},\n",
    "        {'id': 6, 'name': 'Hicks'},\n",
    "        {'id': 7, 'name': 'Devin'},\n",
    "        {'id': 8, 'name': 'Kate'},\n",
    "        {'id': 9, 'name': 'Klein'}]"
   ]
  },
  {
   "cell_type": "code",
   "execution_count": 2,
   "id": "50452ecf",
   "metadata": {},
   "outputs": [],
   "source": [
    "friendship_pairs = [(0, 1), (0, 2), (1, 2), (1, 3), (2, 3), (3, 4),\n",
    "                    (4, 5), (5, 6), (5, 7), (6, 8), (7, 8), (8, 9)]"
   ]
  },
  {
   "cell_type": "code",
   "execution_count": 5,
   "id": "16b3031a",
   "metadata": {},
   "outputs": [
    {
     "data": {
      "text/plain": [
       "{0: [], 1: [], 2: [], 3: [], 4: [], 5: [], 6: [], 7: [], 8: [], 9: []}"
      ]
     },
     "execution_count": 5,
     "metadata": {},
     "output_type": "execute_result"
    }
   ],
   "source": [
    "#Inicialize o dict com uma lista vazia para cada id de usuário:\n",
    "friendships = {user['id']: [] for user in users}\n",
    "friendships"
   ]
  },
  {
   "cell_type": "code",
   "execution_count": 6,
   "id": "853ce3e5",
   "metadata": {},
   "outputs": [
    {
     "data": {
      "text/plain": [
       "{0: [1, 2],\n",
       " 1: [0, 2, 3],\n",
       " 2: [0, 1, 3],\n",
       " 3: [1, 2, 4],\n",
       " 4: [3, 5],\n",
       " 5: [4, 6, 7],\n",
       " 6: [5, 8],\n",
       " 7: [5, 8],\n",
       " 8: [6, 7, 9],\n",
       " 9: [8]}"
      ]
     },
     "execution_count": 6,
     "metadata": {},
     "output_type": "execute_result"
    }
   ],
   "source": [
    "#Em seguida, execute um loop pelos pares de amigospara preenchê-la:\n",
    "for i, j in friendship_pairs:\n",
    "    friendships[i].append(j) #Adicione j como amigo do usuário i\n",
    "    friendships[j].append(i) #Adicione i como amigo do usuário j\n",
    "\n",
    "friendships"
   ]
  },
  {
   "cell_type": "markdown",
   "id": "ee189b7b",
   "metadata": {},
   "source": [
    "Qual é o número médio de conexões ?"
   ]
  },
  {
   "cell_type": "code",
   "execution_count": 12,
   "id": "0ae5ad1c",
   "metadata": {},
   "outputs": [
    {
     "name": "stdout",
     "output_type": "stream",
     "text": [
      "Total de Conexões:  24\n"
     ]
    }
   ],
   "source": [
    "def number_of_friends(user):\n",
    "    \"\"\"Quantos amigos tem o _user_?\"\"\"\n",
    "    user_id = user['id']\n",
    "    friend_ids = friendships[user_id]\n",
    "    return len(friend_ids)\n",
    "\n",
    "total_connections = sum(number_of_friends(user) for user in users)\n",
    "print(\"Total de Conexões: \", total_connections)"
   ]
  },
  {
   "cell_type": "code",
   "execution_count": 13,
   "id": "18d6f8f4",
   "metadata": {},
   "outputs": [
    {
     "name": "stdout",
     "output_type": "stream",
     "text": [
      "A média de conexões:  2.4\n"
     ]
    }
   ],
   "source": [
    "num_users = len(users)\n",
    "avg_connections = total_connections / num_users\n",
    "print('A média de conexões: ', avg_connections)"
   ]
  },
  {
   "cell_type": "markdown",
   "id": "2b309039",
   "metadata": {},
   "source": [
    "Encontrar a pessoa mais conectada"
   ]
  },
  {
   "cell_type": "code",
   "execution_count": 14,
   "id": "d9e4ef11",
   "metadata": {},
   "outputs": [
    {
     "data": {
      "text/plain": [
       "[(0, 2),\n",
       " (1, 3),\n",
       " (2, 3),\n",
       " (3, 3),\n",
       " (4, 2),\n",
       " (5, 3),\n",
       " (6, 2),\n",
       " (7, 2),\n",
       " (8, 3),\n",
       " (9, 1)]"
      ]
     },
     "execution_count": 14,
     "metadata": {},
     "output_type": "execute_result"
    }
   ],
   "source": [
    "num_friends_by_id = [(user['id'], number_of_friends(user)) for user in users]\n",
    "num_friends_by_id"
   ]
  },
  {
   "cell_type": "code",
   "execution_count": 18,
   "id": "7431ec86",
   "metadata": {},
   "outputs": [
    {
     "data": {
      "text/plain": [
       "[(1, 3),\n",
       " (2, 3),\n",
       " (3, 3),\n",
       " (5, 3),\n",
       " (8, 3),\n",
       " (0, 2),\n",
       " (4, 2),\n",
       " (6, 2),\n",
       " (7, 2),\n",
       " (9, 1)]"
      ]
     },
     "execution_count": 18,
     "metadata": {},
     "output_type": "execute_result"
    }
   ],
   "source": [
    "num_friends_by_id.sort( #Classifique a lista\n",
    "    key = lambda id_and_friends: id_and_friends[1], #por num_friends\n",
    "    reverse=True) #Do maior para o menor\n",
    "num_friends_by_id"
   ]
  },
  {
   "cell_type": "markdown",
   "id": "b8fe7c0f",
   "metadata": {},
   "source": [
    "30 Minutos 2 páginas "
   ]
  },
  {
   "cell_type": "markdown",
   "id": "b1be9c86",
   "metadata": {},
   "source": [
    "Cientista de Dados que você talvez conheça "
   ]
  },
  {
   "cell_type": "code",
   "execution_count": 21,
   "id": "922683c1",
   "metadata": {},
   "outputs": [
    {
     "data": {
      "text/plain": [
       "[0, 1, 3]"
      ]
     },
     "execution_count": 21,
     "metadata": {},
     "output_type": "execute_result"
    }
   ],
   "source": [
    "friendships[2]"
   ]
  },
  {
   "cell_type": "code",
   "execution_count": 29,
   "id": "575c7957",
   "metadata": {},
   "outputs": [
    {
     "data": {
      "text/plain": [
       "[0, 2, 3, 0, 1, 3]"
      ]
     },
     "execution_count": 29,
     "metadata": {},
     "output_type": "execute_result"
    }
   ],
   "source": [
    "def foaf_ids_bad(user):\n",
    "    \"\"\"fof significa \"friend of a friend\" \"\"\"\n",
    "    return [foaf_id #retorna \n",
    "           for friend_id in friendships[user['id']] #Executa esse for primeiro\n",
    "               for foaf_id in friendships[friend_id]] #Depois executa esse \n",
    "\n",
    "foaf_ids_bad(users[0])\n"
   ]
  },
  {
   "cell_type": "code",
   "execution_count": 31,
   "id": "d4104d4f",
   "metadata": {},
   "outputs": [
    {
     "data": {
      "text/plain": [
       "Counter({0: 2, 5: 1})"
      ]
     },
     "execution_count": 31,
     "metadata": {},
     "output_type": "execute_result"
    }
   ],
   "source": [
    "from collections import Counter\n",
    "\n",
    "def friends_of_friends(user):\n",
    "    user_id = user['id']\n",
    "    return Counter(\n",
    "        foaf_id\n",
    "        for friend_id in friendships[user_id] #Para cada amigo meu, \n",
    "        for foaf_id in friendships[friend_id] #encontr os amigos deles\n",
    "        if foaf_id != user_id #que não sejam eu \n",
    "        and foaf_id not in friendships[user_id]) # e não sejam meus amigos \n",
    "friends_of_friends(users[3]) #Usuário Chi"
   ]
  },
  {
   "cell_type": "markdown",
   "id": "5aec4683",
   "metadata": {},
   "source": [
    "Chi possui dois amigos em comum com Hero (id 0), mas só um amigo em comum com Clive (id 5)"
   ]
  },
  {
   "cell_type": "code",
   "execution_count": 32,
   "id": "727c3626",
   "metadata": {},
   "outputs": [
    {
     "data": {
      "text/plain": [
       "[{'id': 0, 'name': 'Hero'},\n",
       " {'id': 1, 'name': 'Dunn'},\n",
       " {'id': 2, 'name': 'Sue'},\n",
       " {'id': 3, 'name': 'Chi'},\n",
       " {'id': 4, 'name': 'Thor'},\n",
       " {'id': 5, 'name': 'Clive'},\n",
       " {'id': 6, 'name': 'Hicks'},\n",
       " {'id': 7, 'name': 'Devin'},\n",
       " {'id': 8, 'name': 'Kate'},\n",
       " {'id': 9, 'name': 'Klein'}]"
      ]
     },
     "execution_count": 32,
     "metadata": {},
     "output_type": "execute_result"
    }
   ],
   "source": [
    "users"
   ]
  },
  {
   "cell_type": "markdown",
   "id": "f2f55de6",
   "metadata": {},
   "source": [
    "Experiência Substancial"
   ]
  },
  {
   "cell_type": "code",
   "execution_count": 39,
   "id": "458e1e07",
   "metadata": {},
   "outputs": [],
   "source": [
    "interests = [\n",
    "(0, \"Hadoop\"), (0, \"Big Data\"), (0, \"HBase\"), (0, \"Java\"),\n",
    "    (0, \"Spark\"), (0, \"Storm\"), (0, \"Cassandra\"),\n",
    "    (1, \"NoSQL\"), (1, \"MongoDB\"), (1, \"Cassandra\"), (1, \"HBase\"),\n",
    "    (1, \"Postgres\"), (2, \"Python\"), (2, \"scikit-learn\"), (2, \"scipy\"),\n",
    "    (2, \"numpy\"), (2, \"statsmodels\"), (2, \"pandas\"), (3, \"R\"), (3, \"Python\"),\n",
    "    (3, \"statistics\"), (3, \"regression\"), (3, \"probability\"),\n",
    "    (4, \"machine learning\"), (4, \"regression\"), (4, \"decision trees\"),\n",
    "    (4, \"libsvm\"), (5, \"Python\"), (5, \"R\"), (5, \"Java\"), (5, \"C++\"),\n",
    "    (5, \"Haskell\"), (5, \"programming languages\"), (6, \"statistics\"),\n",
    "    (6, \"probability\"), (6, \"mathematics\"), (6, \"theory\"),\n",
    "    (7, \"machine learning\"), (7, \"scikit-learn\"), (7, \"Mahout\"),\n",
    "    (7, \"neural networks\"), (8, \"neural networks\"), (8, \"deep learning\"),\n",
    "    (8, \"Big Data\"), (8, \"artificial intelligence\"), (9, \"Hadoop\"),\n",
    "    (9, \"Java\"), (9, \"MapReduce\"), (9, \"Big Data\")\n",
    "]"
   ]
  },
  {
   "cell_type": "code",
   "execution_count": 40,
   "id": "b1ff492a",
   "metadata": {},
   "outputs": [
    {
     "data": {
      "text/plain": [
       "[0, 8, 9]"
      ]
     },
     "execution_count": 40,
     "metadata": {},
     "output_type": "execute_result"
    }
   ],
   "source": [
    "def data_scientists_who_like(target_interest):\n",
    "    return [user_id\n",
    "            for user_id, user_interest in interests\n",
    "            if user_interest == target_interest]\n",
    "\n",
    "data_scientists_who_like(\"Big Data\")"
   ]
  },
  {
   "cell_type": "markdown",
   "id": "e48a2541",
   "metadata": {},
   "source": [
    "Índice de usuário para interesses"
   ]
  },
  {
   "cell_type": "code",
   "execution_count": 48,
   "id": "399da3ea",
   "metadata": {},
   "outputs": [
    {
     "data": {
      "text/plain": [
       "defaultdict(list,\n",
       "            {'Hadoop': [0, 9],\n",
       "             'Big Data': [0, 8, 9],\n",
       "             'HBase': [0, 1],\n",
       "             'Java': [0, 5, 9],\n",
       "             'Spark': [0],\n",
       "             'Storm': [0],\n",
       "             'Cassandra': [0, 1],\n",
       "             'NoSQL': [1],\n",
       "             'MongoDB': [1],\n",
       "             'Postgres': [1],\n",
       "             'Python': [2, 3, 5],\n",
       "             'scikit-learn': [2, 7],\n",
       "             'scipy': [2],\n",
       "             'numpy': [2],\n",
       "             'statsmodels': [2],\n",
       "             'pandas': [2],\n",
       "             'R': [3, 5],\n",
       "             'statistics': [3, 6],\n",
       "             'regression': [3, 4],\n",
       "             'probability': [3, 6],\n",
       "             'machine learning': [4, 7],\n",
       "             'decision trees': [4],\n",
       "             'libsvm': [4],\n",
       "             'C++': [5],\n",
       "             'Haskell': [5],\n",
       "             'programming languages': [5],\n",
       "             'mathematics': [6],\n",
       "             'theory': [6],\n",
       "             'Mahout': [7],\n",
       "             'neural networks': [7, 8],\n",
       "             'deep learning': [8],\n",
       "             'artificial intelligence': [8],\n",
       "             'MapReduce': [9]})"
      ]
     },
     "execution_count": 48,
     "metadata": {},
     "output_type": "execute_result"
    }
   ],
   "source": [
    "from collections import defaultdict\n",
    "\n",
    "# As chaves são interesses, os valores são listas de user_ids com o interesse em questão \n",
    "user_ids_by_interest = defaultdict(list)\n",
    "\n",
    "for user_id, interest in interests:\n",
    "    user_ids_by_interest[interest].append(user_id)\n",
    "\n",
    "user_ids_by_interest"
   ]
  },
  {
   "cell_type": "code",
   "execution_count": 49,
   "id": "31a238f4",
   "metadata": {},
   "outputs": [
    {
     "data": {
      "text/plain": [
       "defaultdict(list,\n",
       "            {0: ['Hadoop',\n",
       "              'Big Data',\n",
       "              'HBase',\n",
       "              'Java',\n",
       "              'Spark',\n",
       "              'Storm',\n",
       "              'Cassandra'],\n",
       "             1: ['NoSQL', 'MongoDB', 'Cassandra', 'HBase', 'Postgres'],\n",
       "             2: ['Python',\n",
       "              'scikit-learn',\n",
       "              'scipy',\n",
       "              'numpy',\n",
       "              'statsmodels',\n",
       "              'pandas'],\n",
       "             3: ['R', 'Python', 'statistics', 'regression', 'probability'],\n",
       "             4: ['machine learning', 'regression', 'decision trees', 'libsvm'],\n",
       "             5: ['Python',\n",
       "              'R',\n",
       "              'Java',\n",
       "              'C++',\n",
       "              'Haskell',\n",
       "              'programming languages'],\n",
       "             6: ['statistics', 'probability', 'mathematics', 'theory'],\n",
       "             7: ['machine learning',\n",
       "              'scikit-learn',\n",
       "              'Mahout',\n",
       "              'neural networks'],\n",
       "             8: ['neural networks',\n",
       "              'deep learning',\n",
       "              'Big Data',\n",
       "              'artificial intelligence'],\n",
       "             9: ['Hadoop', 'Java', 'MapReduce', 'Big Data']})"
      ]
     },
     "execution_count": 49,
     "metadata": {},
     "output_type": "execute_result"
    }
   ],
   "source": [
    "# As chaves são user_ids, os valores são listas de interesse com o user_ids em questão \n",
    "interests_by_user_id = defaultdict(list)\n",
    "\n",
    "for user_id, interest in interests:\n",
    "    interests_by_user_id[user_id].append(interest)\n",
    "\n",
    "interests_by_user_id"
   ]
  },
  {
   "cell_type": "code",
   "execution_count": 52,
   "id": "590a04d6",
   "metadata": {},
   "outputs": [
    {
     "data": {
      "text/plain": [
       "Counter()"
      ]
     },
     "execution_count": 52,
     "metadata": {},
     "output_type": "execute_result"
    }
   ],
   "source": [
    "def most_common_interests_with(user_id):\n",
    "    return Counter(\n",
    "        interested_user_id\n",
    "        for interest in interests_by_user_id[\"user_id\"]\n",
    "        for interested_user_id in user_ids_by_interest[interest]\n",
    "        if interested_user_id != user_id)\n",
    "most_common_interests_with(0)"
   ]
  },
  {
   "cell_type": "markdown",
   "id": "649300f6",
   "metadata": {},
   "source": [
    "# Capítulo 2 - Um Curso Intensivo de Pyhton"
   ]
  },
  {
   "cell_type": "markdown",
   "id": "6e571881",
   "metadata": {},
   "source": [
    "É melhor algo belo do que feio. Algo expresso do que implícito. Algo simples do que complexo. "
   ]
  },
  {
   "cell_type": "markdown",
   "id": "8421f4ca",
   "metadata": {},
   "source": [
    "<b>Formatação de Espaço em Branco</b>"
   ]
  },
  {
   "cell_type": "markdown",
   "id": "2fabb914",
   "metadata": {},
   "source": [
    "O espaço em branco é ignorado quando aparece dentro de parênteses e colchetes"
   ]
  },
  {
   "cell_type": "code",
   "execution_count": 2,
   "id": "115da43c",
   "metadata": {},
   "outputs": [
    {
     "data": {
      "text/plain": [
       "25"
      ]
     },
     "execution_count": 2,
     "metadata": {},
     "output_type": "execute_result"
    }
   ],
   "source": [
    "teste = (1 +    3 +2 + 4+5+   10)\n",
    "teste"
   ]
  },
  {
   "cell_type": "code",
   "execution_count": 3,
   "id": "0f9d2154",
   "metadata": {},
   "outputs": [
    {
     "data": {
      "text/plain": [
       "[[1, 2, 3], [4, 5, 6], [7, 8, 9]]"
      ]
     },
     "execution_count": 3,
     "metadata": {},
     "output_type": "execute_result"
    }
   ],
   "source": [
    "teste = [[1,2,3], [4,      5,6], [7,   8,9]]\n",
    "teste"
   ]
  },
  {
   "cell_type": "code",
   "execution_count": 4,
   "id": "dc97b388",
   "metadata": {},
   "outputs": [
    {
     "data": {
      "text/plain": [
       "[[1, 2, 3], [4, 5, 6], [7, 8, 9]]"
      ]
     },
     "execution_count": 4,
     "metadata": {},
     "output_type": "execute_result"
    }
   ],
   "source": [
    "teste = [[1,2,3], \n",
    "         [4,      5,6], \n",
    "         [7,   8,9]]\n",
    "teste"
   ]
  },
  {
   "cell_type": "markdown",
   "id": "e8db8167",
   "metadata": {},
   "source": [
    "Barra invertida indica que a instrução continua na próxima linha. "
   ]
  },
  {
   "cell_type": "code",
   "execution_count": 8,
   "id": "3c1177e6",
   "metadata": {},
   "outputs": [
    {
     "data": {
      "text/plain": [
       "114"
      ]
     },
     "execution_count": 8,
     "metadata": {},
     "output_type": "execute_result"
    }
   ],
   "source": [
    "teste = 1 + \\\n",
    "        3 + 4 + \\\n",
    "                        106\n",
    "teste"
   ]
  },
  {
   "cell_type": "markdown",
   "id": "01cd14d5",
   "metadata": {},
   "source": [
    "<b>Funções</b>"
   ]
  },
  {
   "cell_type": "markdown",
   "id": "e82a48c5",
   "metadata": {},
   "source": [
    "Lambda - São pequenas funções anônimas"
   ]
  },
  {
   "cell_type": "code",
   "execution_count": 27,
   "id": "24ea1339",
   "metadata": {},
   "outputs": [
    {
     "data": {
      "text/plain": [
       "14"
      ]
     },
     "execution_count": 27,
     "metadata": {},
     "output_type": "execute_result"
    }
   ],
   "source": [
    "def retorna_um(valor):\n",
    "    return valor(10)\n",
    "\n",
    "teste = retorna_um(lambda x: x + 4)\n",
    "teste"
   ]
  },
  {
   "cell_type": "code",
   "execution_count": 29,
   "id": "5106e545",
   "metadata": {},
   "outputs": [
    {
     "data": {
      "text/plain": [
       "300.0"
      ]
     },
     "execution_count": 29,
     "metadata": {},
     "output_type": "execute_result"
    }
   ],
   "source": [
    "preco = 1000\n",
    "\n",
    "def calcular_imposto(preco):\n",
    "    return preco * 0.3\n",
    "calcular_imposto(preco)"
   ]
  },
  {
   "cell_type": "code",
   "execution_count": 32,
   "id": "cb0bace9",
   "metadata": {},
   "outputs": [
    {
     "data": {
      "text/plain": [
       "300.0"
      ]
     },
     "execution_count": 32,
     "metadata": {},
     "output_type": "execute_result"
    }
   ],
   "source": [
    "preco = 1000\n",
    "calcular_imposto_lambda = lambda x: x * 0.3\n",
    "calcular_imposto_lambda(preco)"
   ]
  },
  {
   "cell_type": "markdown",
   "id": "88e7c1be",
   "metadata": {},
   "source": [
    "Os parâmetros da função também podem receber argumentos padrão"
   ]
  },
  {
   "cell_type": "code",
   "execution_count": 33,
   "id": "21f1c050",
   "metadata": {},
   "outputs": [
    {
     "name": "stdout",
     "output_type": "stream",
     "text": [
      "Ola que tá\n"
     ]
    }
   ],
   "source": [
    "def meu_print(mensagem = \"Mensagem Padrão\"):\n",
    "    print(mensagem)\n",
    "meu_print('Ola que tá')"
   ]
  },
  {
   "cell_type": "code",
   "execution_count": 34,
   "id": "051b6f26",
   "metadata": {},
   "outputs": [
    {
     "name": "stdout",
     "output_type": "stream",
     "text": [
      "Mensagem Padrão\n"
     ]
    }
   ],
   "source": [
    "meu_print()"
   ]
  },
  {
   "cell_type": "markdown",
   "id": "1b713fd6",
   "metadata": {},
   "source": [
    "<b>Strings (Cadeias de Caracteres)"
   ]
  },
  {
   "cell_type": "markdown",
   "id": "78ae1359",
   "metadata": {},
   "source": [
    "Strings brutas, strings que não verificam caracteres especiais"
   ]
  },
  {
   "cell_type": "code",
   "execution_count": 46,
   "id": "4d177a43",
   "metadata": {},
   "outputs": [
    {
     "name": "stdout",
     "output_type": "stream",
     "text": [
      "String com \n",
      " caracter especial\n"
     ]
    }
   ],
   "source": [
    "teste = 'String com \\n caracter especial'\n",
    "print(teste)"
   ]
  },
  {
   "cell_type": "code",
   "execution_count": 47,
   "id": "fc4f0ce0",
   "metadata": {},
   "outputs": [
    {
     "name": "stdout",
     "output_type": "stream",
     "text": [
      "String bruta com \\n caracter especial\n"
     ]
    }
   ],
   "source": [
    "teste = r'String bruta com \\n caracter especial'\n",
    "print(teste)"
   ]
  },
  {
   "cell_type": "markdown",
   "id": "a9264866",
   "metadata": {},
   "source": [
    "String de várias linhas, só utilizar \"\"\" \"\"\""
   ]
  },
  {
   "cell_type": "code",
   "execution_count": 48,
   "id": "a8a64939",
   "metadata": {},
   "outputs": [
    {
     "name": "stdout",
     "output_type": "stream",
     "text": [
      "Primeira linha\n",
      "Segunda Linha \n",
      "\n",
      "Quarta Linha\n"
     ]
    }
   ],
   "source": [
    "teste = \"\"\"Primeira linha\n",
    "Segunda Linha \n",
    "\n",
    "Quarta Linha\"\"\"\n",
    "print(teste)"
   ]
  },
  {
   "cell_type": "markdown",
   "id": "a897ba5a",
   "metadata": {},
   "source": [
    "<b>Listas"
   ]
  },
  {
   "cell_type": "markdown",
   "id": "1fdf553c",
   "metadata": {},
   "source": [
    "Pode usar colchetes para fatiar uma lista. A fatia i:j contém todos os elementos.\n",
    "i -> (incluído)\n",
    "j -> (não incluído)"
   ]
  },
  {
   "cell_type": "code",
   "execution_count": 60,
   "id": "353ed449",
   "metadata": {},
   "outputs": [],
   "source": [
    "x = [0, 1, 2, 3, 4, 5, 6, 7, 8]"
   ]
  },
  {
   "cell_type": "code",
   "execution_count": 50,
   "id": "8c6f2019",
   "metadata": {},
   "outputs": [
    {
     "data": {
      "text/plain": [
       "[4, 5, 6, 7, 8]"
      ]
     },
     "execution_count": 50,
     "metadata": {},
     "output_type": "execute_result"
    }
   ],
   "source": [
    "x[4:]"
   ]
  },
  {
   "cell_type": "code",
   "execution_count": 51,
   "id": "8ea8130c",
   "metadata": {},
   "outputs": [
    {
     "data": {
      "text/plain": [
       "[0, 1, 2, 3]"
      ]
     },
     "execution_count": 51,
     "metadata": {},
     "output_type": "execute_result"
    }
   ],
   "source": [
    "x[:4]"
   ]
  },
  {
   "cell_type": "markdown",
   "id": "77d7d5c6",
   "metadata": {},
   "source": [
    "Pode receber um terceiro argumento para indicar um stride"
   ]
  },
  {
   "cell_type": "code",
   "execution_count": 54,
   "id": "0120a1d2",
   "metadata": {},
   "outputs": [
    {
     "data": {
      "text/plain": [
       "[2, 5]"
      ]
     },
     "execution_count": 54,
     "metadata": {},
     "output_type": "execute_result"
    }
   ],
   "source": [
    "x[2:7:3]"
   ]
  },
  {
   "cell_type": "code",
   "execution_count": 56,
   "id": "3447e287",
   "metadata": {},
   "outputs": [
    {
     "data": {
      "text/plain": [
       "[7, 6, 5, 4, 3]"
      ]
     },
     "execution_count": 56,
     "metadata": {},
     "output_type": "execute_result"
    }
   ],
   "source": [
    "x[7:2:-1]"
   ]
  },
  {
   "cell_type": "markdown",
   "id": "5d8b4390",
   "metadata": {},
   "source": [
    "Para verificar a associação a lista"
   ]
  },
  {
   "cell_type": "code",
   "execution_count": 57,
   "id": "5693e162",
   "metadata": {},
   "outputs": [
    {
     "data": {
      "text/plain": [
       "True"
      ]
     },
     "execution_count": 57,
     "metadata": {},
     "output_type": "execute_result"
    }
   ],
   "source": [
    "6 in x"
   ]
  },
  {
   "cell_type": "markdown",
   "id": "41956e10",
   "metadata": {},
   "source": [
    "Concatenar Lista"
   ]
  },
  {
   "cell_type": "code",
   "execution_count": 61,
   "id": "5b21dd71",
   "metadata": {},
   "outputs": [
    {
     "data": {
      "text/plain": [
       "[0, 1, 2, 3, 4, 5, 6, 7, 8, 9, 10, 24]"
      ]
     },
     "execution_count": 61,
     "metadata": {},
     "output_type": "execute_result"
    }
   ],
   "source": [
    "x.extend([9,10,24])\n",
    "x"
   ]
  },
  {
   "cell_type": "markdown",
   "id": "33c0b516",
   "metadata": {},
   "source": [
    "Problema é que o extend modifica a variável x"
   ]
  },
  {
   "cell_type": "markdown",
   "id": "66245ccd",
   "metadata": {},
   "source": [
    "Para não mudar a variável x"
   ]
  },
  {
   "cell_type": "code",
   "execution_count": 62,
   "id": "92d18a0a",
   "metadata": {},
   "outputs": [
    {
     "data": {
      "text/plain": [
       "[0, 1, 2, 3, 4, 5, 6, 7, 8, 9, 10, 24]"
      ]
     },
     "execution_count": 62,
     "metadata": {},
     "output_type": "execute_result"
    }
   ],
   "source": [
    "y = x + ([50, 51, 52])\n",
    "x"
   ]
  },
  {
   "cell_type": "code",
   "execution_count": 63,
   "id": "e40d77a2",
   "metadata": {},
   "outputs": [
    {
     "data": {
      "text/plain": [
       "[0, 1, 2, 3, 4, 5, 6, 7, 8, 9, 10, 24, 50, 51, 52]"
      ]
     },
     "execution_count": 63,
     "metadata": {},
     "output_type": "execute_result"
    }
   ],
   "source": [
    "y"
   ]
  },
  {
   "cell_type": "markdown",
   "id": "aa9c0f7c",
   "metadata": {},
   "source": [
    "Geralmente é utilizado um sublinhado para indicar um valor que será descartado"
   ]
  },
  {
   "cell_type": "code",
   "execution_count": 65,
   "id": "9ef556e6",
   "metadata": {},
   "outputs": [
    {
     "name": "stdout",
     "output_type": "stream",
     "text": [
      "Primeiro valor 1 e Segundo valor 2\n"
     ]
    }
   ],
   "source": [
    "teste = [1, 2]\n",
    "x, y = teste\n",
    "print(f'Primeiro valor {x} e Segundo valor {y}')"
   ]
  },
  {
   "cell_type": "code",
   "execution_count": 66,
   "id": "11088129",
   "metadata": {},
   "outputs": [
    {
     "data": {
      "text/plain": [
       "2"
      ]
     },
     "execution_count": 66,
     "metadata": {},
     "output_type": "execute_result"
    }
   ],
   "source": [
    "_, y = teste\n",
    "y"
   ]
  },
  {
   "cell_type": "markdown",
   "id": "67d6c280",
   "metadata": {},
   "source": [
    "<b>Defaultdict"
   ]
  },
  {
   "cell_type": "markdown",
   "id": "695b21f0",
   "metadata": {},
   "source": [
    "Com o defaultdict pode acessar uma chave que não existe, um novo valor pode ser gerado automaticamente"
   ]
  },
  {
   "cell_type": "code",
   "execution_count": 70,
   "id": "e9caf865",
   "metadata": {},
   "outputs": [
    {
     "data": {
      "text/plain": [
       "{'x': 1}"
      ]
     },
     "execution_count": 70,
     "metadata": {},
     "output_type": "execute_result"
    }
   ],
   "source": [
    "teste = {'x': 1}\n",
    "teste"
   ]
  },
  {
   "cell_type": "code",
   "execution_count": 71,
   "id": "fc97007b",
   "metadata": {},
   "outputs": [
    {
     "data": {
      "text/plain": [
       "1"
      ]
     },
     "execution_count": 71,
     "metadata": {},
     "output_type": "execute_result"
    }
   ],
   "source": [
    "teste['x']"
   ]
  },
  {
   "cell_type": "code",
   "execution_count": 72,
   "id": "ac788108",
   "metadata": {},
   "outputs": [
    {
     "ename": "KeyError",
     "evalue": "'y'",
     "output_type": "error",
     "traceback": [
      "\u001b[1;31m---------------------------------------------------------------------------\u001b[0m",
      "\u001b[1;31mKeyError\u001b[0m                                  Traceback (most recent call last)",
      "\u001b[1;32m<ipython-input-72-83bb4f33d8ca>\u001b[0m in \u001b[0;36m<module>\u001b[1;34m\u001b[0m\n\u001b[1;32m----> 1\u001b[1;33m \u001b[0mteste\u001b[0m\u001b[1;33m[\u001b[0m\u001b[1;34m'y'\u001b[0m\u001b[1;33m]\u001b[0m\u001b[1;33m\u001b[0m\u001b[1;33m\u001b[0m\u001b[0m\n\u001b[0m",
      "\u001b[1;31mKeyError\u001b[0m: 'y'"
     ]
    }
   ],
   "source": [
    "teste['y']"
   ]
  },
  {
   "cell_type": "code",
   "execution_count": 75,
   "id": "4cf223fe",
   "metadata": {},
   "outputs": [
    {
     "data": {
      "text/plain": [
       "defaultdict(None, {})"
      ]
     },
     "execution_count": 75,
     "metadata": {},
     "output_type": "execute_result"
    }
   ],
   "source": [
    "from collections import defaultdict\n",
    "teste = defaultdict()\n",
    "teste"
   ]
  },
  {
   "cell_type": "code",
   "execution_count": 78,
   "id": "56ff00ca",
   "metadata": {},
   "outputs": [
    {
     "data": {
      "text/plain": [
       "defaultdict(None, {'y': 103})"
      ]
     },
     "execution_count": 78,
     "metadata": {},
     "output_type": "execute_result"
    }
   ],
   "source": [
    "teste['y'] = 103\n",
    "teste"
   ]
  },
  {
   "cell_type": "code",
   "execution_count": 82,
   "id": "47b00ea8",
   "metadata": {},
   "outputs": [
    {
     "data": {
      "text/plain": [
       "103"
      ]
     },
     "execution_count": 82,
     "metadata": {},
     "output_type": "execute_result"
    }
   ],
   "source": [
    "teste['casa'] = 'Teste'\n",
    "teste['y']"
   ]
  },
  {
   "cell_type": "markdown",
   "id": "0d7131f4",
   "metadata": {},
   "source": [
    "<b>Contadores"
   ]
  },
  {
   "cell_type": "markdown",
   "id": "be2399f8",
   "metadata": {},
   "source": [
    "Couter converte uma sequência de valores em algo parecido com o objeto defaultdict(int)"
   ]
  },
  {
   "cell_type": "code",
   "execution_count": 84,
   "id": "e3275c9f",
   "metadata": {},
   "outputs": [
    {
     "data": {
      "text/plain": [
       "Counter({0: 2, 1: 1, 2: 6})"
      ]
     },
     "execution_count": 84,
     "metadata": {},
     "output_type": "execute_result"
    }
   ],
   "source": [
    "from collections import Counter\n",
    "c = Counter([0, 1, 2, 0, 2, 2, 2, 2, 2])\n",
    "c"
   ]
  },
  {
   "cell_type": "markdown",
   "id": "3b8c9abd",
   "metadata": {},
   "source": [
    "<b>Conjuntos"
   ]
  },
  {
   "cell_type": "markdown",
   "id": "b0ee4ca0",
   "metadata": {},
   "source": [
    "Para aplicar um teste de associação em uma grande coleção de intens, é melhor usar um conjunto do que uma lista"
   ]
  },
  {
   "cell_type": "markdown",
   "id": "d8a13e32",
   "metadata": {},
   "source": [
    "São estruturas disponíveis como builtins do Python, utilizadas para representar coleções desordenadas de elementos únicos. É importante sempre lembrar dos conjuntos por suas duas principais características:\n",
    "\n",
    "Os elementos não são armazenados em uma ordem específica e confiável;\n",
    "Conjuntos não contém elementos repetidos."
   ]
  },
  {
   "cell_type": "code",
   "execution_count": 85,
   "id": "1cfb4b77",
   "metadata": {},
   "outputs": [
    {
     "data": {
      "text/plain": [
       "{1, 2, 3, 4, 10}"
      ]
     },
     "execution_count": 85,
     "metadata": {},
     "output_type": "execute_result"
    }
   ],
   "source": [
    "#Para definir um conjunto, pode listar os elementos entre chaves:\n",
    "teste_conjunto = {2, 4, 1, 10, 3}\n",
    "teste_conjunto"
   ]
  },
  {
   "cell_type": "markdown",
   "id": "bc511550",
   "metadata": {},
   "source": [
    "Para criar um conjunto vazio utilize set()"
   ]
  },
  {
   "cell_type": "code",
   "execution_count": 87,
   "id": "e49620b9",
   "metadata": {},
   "outputs": [
    {
     "data": {
      "text/plain": [
       "set()"
      ]
     },
     "execution_count": 87,
     "metadata": {},
     "output_type": "execute_result"
    }
   ],
   "source": [
    "teste_conjunto_vazio = set()\n",
    "teste_conjunto_vazio"
   ]
  },
  {
   "cell_type": "code",
   "execution_count": 89,
   "id": "607745a0",
   "metadata": {},
   "outputs": [
    {
     "data": {
      "text/plain": [
       "{1, 2, 3, 10}"
      ]
     },
     "execution_count": 89,
     "metadata": {},
     "output_type": "execute_result"
    }
   ],
   "source": [
    "teste_conjunto_vazio.add(10)\n",
    "teste_conjunto_vazio.add(1)\n",
    "teste_conjunto_vazio.add(3)\n",
    "teste_conjunto_vazio.add(2)\n",
    "teste_conjunto_vazio"
   ]
  },
  {
   "cell_type": "code",
   "execution_count": 91,
   "id": "da8ad4db",
   "metadata": {},
   "outputs": [
    {
     "data": {
      "text/plain": [
       "True"
      ]
     },
     "execution_count": 91,
     "metadata": {},
     "output_type": "execute_result"
    }
   ],
   "source": [
    "2 in teste_conjunto_vazio"
   ]
  },
  {
   "cell_type": "markdown",
   "id": "f619eb6a",
   "metadata": {},
   "source": [
    "<b>Fluxo de Controle"
   ]
  },
  {
   "cell_type": "markdown",
   "id": "d50ac00b",
   "metadata": {},
   "source": [
    "Ternário do tipo if-then-else em uma linha"
   ]
  },
  {
   "cell_type": "code",
   "execution_count": 92,
   "id": "146eb0f7",
   "metadata": {},
   "outputs": [
    {
     "data": {
      "text/plain": [
       "'par'"
      ]
     },
     "execution_count": 92,
     "metadata": {},
     "output_type": "execute_result"
    }
   ],
   "source": [
    "x = 10\n",
    "\"par\" if x % 2 == 0 else \"impar\""
   ]
  },
  {
   "cell_type": "markdown",
   "id": "7c5ee5a6",
   "metadata": {},
   "source": [
    "continue e break"
   ]
  },
  {
   "cell_type": "code",
   "execution_count": 95,
   "id": "c28a6e0b",
   "metadata": {},
   "outputs": [
    {
     "name": "stdout",
     "output_type": "stream",
     "text": [
      "0\n",
      "1\n",
      "2\n",
      "4\n"
     ]
    }
   ],
   "source": [
    "for x in range(10000000):\n",
    "    if x == 3:\n",
    "        continue #Vá imediatamente para a próxima iteração\n",
    "    elif x == 5:\n",
    "        break #Saia do loop totalmente\n",
    "    print(x)\n"
   ]
  },
  {
   "cell_type": "markdown",
   "id": "b136a80a",
   "metadata": {},
   "source": [
    "<b>Classificação"
   ]
  },
  {
   "cell_type": "markdown",
   "id": "f2f89d56",
   "metadata": {},
   "source": [
    "O comando sort e sorted organizam a lista do menor elemento para o maior"
   ]
  },
  {
   "cell_type": "code",
   "execution_count": 100,
   "id": "ba958451",
   "metadata": {},
   "outputs": [
    {
     "data": {
      "text/plain": [
       "[0, 1, 3, 4, 5, 9, 10]"
      ]
     },
     "execution_count": 100,
     "metadata": {},
     "output_type": "execute_result"
    }
   ],
   "source": [
    "x = [4, 3, 10, 0, 1, 5, 9]\n",
    "sorted(x)"
   ]
  },
  {
   "cell_type": "code",
   "execution_count": 101,
   "id": "c0931f11",
   "metadata": {},
   "outputs": [
    {
     "data": {
      "text/plain": [
       "[4, 3, 10, 0, 1, 5, 9]"
      ]
     },
     "execution_count": 101,
     "metadata": {},
     "output_type": "execute_result"
    }
   ],
   "source": [
    "x"
   ]
  },
  {
   "cell_type": "code",
   "execution_count": 102,
   "id": "7c4476ac",
   "metadata": {},
   "outputs": [
    {
     "data": {
      "text/plain": [
       "[0, 1, 3, 4, 5, 9, 10]"
      ]
     },
     "execution_count": 102,
     "metadata": {},
     "output_type": "execute_result"
    }
   ],
   "source": [
    "x.sort()\n",
    "x"
   ]
  },
  {
   "cell_type": "markdown",
   "id": "4ea1bdbd",
   "metadata": {},
   "source": [
    "Para organizar do maior para o menor é só usar o parâmetro reverse=True"
   ]
  },
  {
   "cell_type": "code",
   "execution_count": 103,
   "id": "829092ba",
   "metadata": {},
   "outputs": [
    {
     "data": {
      "text/plain": [
       "[10, 9, 5, 4, 3, 1, 0]"
      ]
     },
     "execution_count": 103,
     "metadata": {},
     "output_type": "execute_result"
    }
   ],
   "source": [
    "sorted(x, reverse=True)"
   ]
  },
  {
   "cell_type": "markdown",
   "id": "58d90e5b",
   "metadata": {},
   "source": [
    "<b>Compreensões de Listas "
   ]
  },
  {
   "cell_type": "code",
   "execution_count": 105,
   "id": "01ea6aee",
   "metadata": {},
   "outputs": [
    {
     "data": {
      "text/plain": [
       "[0, 2, 4, 6, 8]"
      ]
     },
     "execution_count": 105,
     "metadata": {},
     "output_type": "execute_result"
    }
   ],
   "source": [
    "numeros_pares = [x for x in range(10) if x % 2 == 0]\n",
    "numeros_pares"
   ]
  },
  {
   "cell_type": "markdown",
   "id": "a78a0669",
   "metadata": {},
   "source": [
    "Transformar listas em dicionários ou conjuntos"
   ]
  },
  {
   "cell_type": "code",
   "execution_count": 108,
   "id": "a597d568",
   "metadata": {},
   "outputs": [
    {
     "data": {
      "text/plain": [
       "{1: 0, 3: 2, 5: 4, 7: 6, 9: 8}"
      ]
     },
     "execution_count": 108,
     "metadata": {},
     "output_type": "execute_result"
    }
   ],
   "source": [
    "dicionario_de_lista = {x+1: x for x in range(10) if x % 2 == 0}\n",
    "dicionario_de_lista"
   ]
  },
  {
   "cell_type": "markdown",
   "id": "0720c6d1",
   "metadata": {},
   "source": [
    "Uma compreensão de lista pode conter múltiplos fors"
   ]
  },
  {
   "cell_type": "code",
   "execution_count": 112,
   "id": "1bc275d4",
   "metadata": {},
   "outputs": [
    {
     "data": {
      "text/plain": [
       "[(0, 0), (0, 1), (1, 0), (1, 1)]"
      ]
     },
     "execution_count": 112,
     "metadata": {},
     "output_type": "execute_result"
    }
   ],
   "source": [
    "pares = [(x, y)\n",
    "      for x in range(2)\n",
    "      for y in range(2)]\n",
    "pares"
   ]
  },
  {
   "cell_type": "markdown",
   "id": "be0490c2",
   "metadata": {},
   "source": [
    "Os fors podem usar os resultados dos anteriores"
   ]
  },
  {
   "cell_type": "code",
   "execution_count": 115,
   "id": "a0db9184",
   "metadata": {},
   "outputs": [
    {
     "data": {
      "text/plain": [
       "[(0, 2), (0, 3), (0, 4), (1, 3), (1, 4), (1, 5)]"
      ]
     },
     "execution_count": 115,
     "metadata": {},
     "output_type": "execute_result"
    }
   ],
   "source": [
    "teste = [(x, y)\n",
    "        for x in range(2)\n",
    "        for y in range(x + 2, x+5)]\n",
    "teste"
   ]
  },
  {
   "cell_type": "markdown",
   "id": "5eebfb7b",
   "metadata": {},
   "source": [
    "<b>Testes Automatizados e asserção"
   ]
  },
  {
   "cell_type": "markdown",
   "id": "00c2b9c8",
   "metadata": {},
   "source": [
    "assert -> faz um teste e caso haja algum erro ele retorna um AssertionError "
   ]
  },
  {
   "cell_type": "code",
   "execution_count": 121,
   "id": "4b416408",
   "metadata": {},
   "outputs": [],
   "source": [
    "x = 1\n",
    "assert x + 1 == 2, \"x + 1 não é igual a 2\""
   ]
  },
  {
   "cell_type": "code",
   "execution_count": 120,
   "id": "f4295b55",
   "metadata": {},
   "outputs": [
    {
     "ename": "AssertionError",
     "evalue": "x + 1 não é igual a 2",
     "output_type": "error",
     "traceback": [
      "\u001b[1;31m---------------------------------------------------------------------------\u001b[0m",
      "\u001b[1;31mAssertionError\u001b[0m                            Traceback (most recent call last)",
      "\u001b[1;32m<ipython-input-120-9f1ecbf05fe2>\u001b[0m in \u001b[0;36m<module>\u001b[1;34m\u001b[0m\n\u001b[0;32m      1\u001b[0m \u001b[0mx\u001b[0m \u001b[1;33m=\u001b[0m \u001b[1;36m2\u001b[0m\u001b[1;33m\u001b[0m\u001b[1;33m\u001b[0m\u001b[0m\n\u001b[1;32m----> 2\u001b[1;33m \u001b[1;32massert\u001b[0m \u001b[0mx\u001b[0m \u001b[1;33m+\u001b[0m \u001b[1;36m1\u001b[0m \u001b[1;33m==\u001b[0m \u001b[1;36m2\u001b[0m\u001b[1;33m,\u001b[0m \u001b[1;34m\"x + 1 não é igual a 2\"\u001b[0m\u001b[1;33m\u001b[0m\u001b[1;33m\u001b[0m\u001b[0m\n\u001b[0m",
      "\u001b[1;31mAssertionError\u001b[0m: x + 1 não é igual a 2"
     ]
    }
   ],
   "source": [
    "x = 2\n",
    "assert x + 1 == 2, \"x + 1 não é igual a 2\""
   ]
  },
  {
   "cell_type": "code",
   "execution_count": 122,
   "id": "6782be4a",
   "metadata": {},
   "outputs": [],
   "source": [
    "def menor_item(item):\n",
    "    return min(item)\n",
    "\n",
    "assert menor_item([10, 20, 4, 100]) == 4, 'O número 4 não o menor item'"
   ]
  },
  {
   "cell_type": "code",
   "execution_count": 124,
   "id": "d062442a",
   "metadata": {},
   "outputs": [
    {
     "ename": "AssertionError",
     "evalue": "O número 10 não o menor item",
     "output_type": "error",
     "traceback": [
      "\u001b[1;31m---------------------------------------------------------------------------\u001b[0m",
      "\u001b[1;31mAssertionError\u001b[0m                            Traceback (most recent call last)",
      "\u001b[1;32m<ipython-input-124-7285eb24b48c>\u001b[0m in \u001b[0;36m<module>\u001b[1;34m\u001b[0m\n\u001b[1;32m----> 1\u001b[1;33m \u001b[1;32massert\u001b[0m \u001b[0mmenor_item\u001b[0m\u001b[1;33m(\u001b[0m\u001b[1;33m[\u001b[0m\u001b[1;36m10\u001b[0m\u001b[1;33m,\u001b[0m \u001b[1;36m20\u001b[0m\u001b[1;33m,\u001b[0m \u001b[1;36m4\u001b[0m\u001b[1;33m,\u001b[0m \u001b[1;36m100\u001b[0m\u001b[1;33m]\u001b[0m\u001b[1;33m)\u001b[0m \u001b[1;33m==\u001b[0m \u001b[1;36m10\u001b[0m\u001b[1;33m,\u001b[0m \u001b[1;34m'O número 10 não o menor item'\u001b[0m\u001b[1;33m\u001b[0m\u001b[1;33m\u001b[0m\u001b[0m\n\u001b[0m",
      "\u001b[1;31mAssertionError\u001b[0m: O número 10 não o menor item"
     ]
    }
   ],
   "source": [
    "assert menor_item([10, 20, 4, 100]) == 10, 'O número 10 não o menor item'"
   ]
  },
  {
   "cell_type": "markdown",
   "id": "49485a31",
   "metadata": {},
   "source": [
    "<b>Iteráveis e Geradores"
   ]
  },
  {
   "cell_type": "markdown",
   "id": "13acfcec",
   "metadata": {},
   "source": [
    "Se precisa obter um elemento por vez utilizar geradores por não ocuparem memória"
   ]
  },
  {
   "cell_type": "code",
   "execution_count": 125,
   "id": "bf9148c6",
   "metadata": {},
   "outputs": [
    {
     "name": "stdout",
     "output_type": "stream",
     "text": [
      "0\n",
      "1\n",
      "2\n",
      "3\n",
      "4\n",
      "5\n",
      "6\n",
      "7\n",
      "8\n",
      "9\n"
     ]
    }
   ],
   "source": [
    "def gera_range(n):\n",
    "    i = 0\n",
    "    while i < n:\n",
    "        yield i # Cada chamada para yield produz um valor do gerador\n",
    "        i += 1\n",
    "for i in gera_range(10):\n",
    "    print(i)"
   ]
  },
  {
   "cell_type": "code",
   "execution_count": 133,
   "id": "47092091",
   "metadata": {},
   "outputs": [
    {
     "data": {
      "text/plain": [
       "[0, 2, 4, 6, 8]"
      ]
     },
     "execution_count": 133,
     "metadata": {},
     "output_type": "execute_result"
    }
   ],
   "source": [
    "teste = [i for i in gera_range(10) if i % 2 == 0]\n",
    "teste"
   ]
  },
  {
   "cell_type": "code",
   "execution_count": 134,
   "id": "0e3c35cf",
   "metadata": {},
   "outputs": [
    {
     "data": {
      "text/plain": [
       "<generator object <genexpr> at 0x000001AF4C51D190>"
      ]
     },
     "execution_count": 134,
     "metadata": {},
     "output_type": "execute_result"
    }
   ],
   "source": [
    "teste = (i for i in gera_range(10) if i % 2 == 0)\n",
    "teste"
   ]
  },
  {
   "cell_type": "markdown",
   "id": "6ba2f17f",
   "metadata": {},
   "source": [
    "<b>Aleatoridade"
   ]
  },
  {
   "cell_type": "markdown",
   "id": "916183ec",
   "metadata": {},
   "source": [
    "random.seed() -> determina um estado interno para reproduzir um resultado"
   ]
  },
  {
   "cell_type": "code",
   "execution_count": 137,
   "id": "d034086f",
   "metadata": {},
   "outputs": [
    {
     "name": "stdout",
     "output_type": "stream",
     "text": [
      "0.5714025946899135\n"
     ]
    }
   ],
   "source": [
    "import random\n",
    "random.seed(10)\n",
    "print(random.random())"
   ]
  },
  {
   "cell_type": "code",
   "execution_count": 138,
   "id": "df1417d0",
   "metadata": {},
   "outputs": [
    {
     "name": "stdout",
     "output_type": "stream",
     "text": [
      "0.4288890546751146\n"
     ]
    }
   ],
   "source": [
    "print(random.random())"
   ]
  },
  {
   "cell_type": "code",
   "execution_count": 139,
   "id": "a40a0766",
   "metadata": {},
   "outputs": [
    {
     "name": "stdout",
     "output_type": "stream",
     "text": [
      "0.5714025946899135\n"
     ]
    }
   ],
   "source": [
    "random.seed(10)\n",
    "print(random.random())"
   ]
  },
  {
   "cell_type": "markdown",
   "id": "ecb85be4",
   "metadata": {},
   "source": [
    "Seleciona aleartoriamente um número no range 10"
   ]
  },
  {
   "cell_type": "code",
   "execution_count": 140,
   "id": "eda85556",
   "metadata": {},
   "outputs": [
    {
     "data": {
      "text/plain": [
       "6"
      ]
     },
     "execution_count": 140,
     "metadata": {},
     "output_type": "execute_result"
    }
   ],
   "source": [
    "random.randrange(10)"
   ]
  },
  {
   "cell_type": "markdown",
   "id": "e2d5c2c0",
   "metadata": {},
   "source": [
    "random.shuffle reordena aleatoriamente os elementos de uma lista"
   ]
  },
  {
   "cell_type": "code",
   "execution_count": 143,
   "id": "6ab1020d",
   "metadata": {},
   "outputs": [
    {
     "data": {
      "text/plain": [
       "[4, 5, 6, 1, 2, 3, 7]"
      ]
     },
     "execution_count": 143,
     "metadata": {},
     "output_type": "execute_result"
    }
   ],
   "source": [
    "teste = [1, 2, 3, 4, 5, 6, 7]\n",
    "random.shuffle(teste)\n",
    "teste"
   ]
  },
  {
   "cell_type": "markdown",
   "id": "4c05d6d7",
   "metadata": {},
   "source": [
    "random.choice -> escolhe aleatoriamente um elemento da lista"
   ]
  },
  {
   "cell_type": "code",
   "execution_count": 144,
   "id": "f9845455",
   "metadata": {},
   "outputs": [
    {
     "name": "stdout",
     "output_type": "stream",
     "text": [
      "6\n"
     ]
    }
   ],
   "source": [
    "print(random.choice(teste))"
   ]
  },
  {
   "cell_type": "markdown",
   "id": "532580a6",
   "metadata": {},
   "source": [
    "random.sample -> escolhe aleatoriamente um amostra de elementos de uma lista"
   ]
  },
  {
   "cell_type": "code",
   "execution_count": 145,
   "id": "b53c36fb",
   "metadata": {},
   "outputs": [
    {
     "name": "stdout",
     "output_type": "stream",
     "text": [
      "[4, 5]\n"
     ]
    }
   ],
   "source": [
    "print(random.sample(teste, 2))"
   ]
  },
  {
   "cell_type": "code",
   "execution_count": 150,
   "id": "5a86e78b",
   "metadata": {},
   "outputs": [
    {
     "data": {
      "text/plain": [
       "[[22, 87, 38, 84], [46, 17, 58, 98], [30, 56, 78, 48], [5, 74, 0, 30]]"
      ]
     },
     "execution_count": 150,
     "metadata": {},
     "output_type": "execute_result"
    }
   ],
   "source": [
    "amostras = [random.sample(range(100), 4) for _ in range(4)]\n",
    "amostras"
   ]
  },
  {
   "cell_type": "markdown",
   "id": "e5b1c0ec",
   "metadata": {},
   "source": [
    "<b>Expressões Regulares"
   ]
  },
  {
   "cell_type": "markdown",
   "id": "25e6486a",
   "metadata": {},
   "source": [
    "re.match -> Verifica se o início de uma string corresponde a uma expressão regular"
   ]
  },
  {
   "cell_type": "markdown",
   "id": "357deb38",
   "metadata": {},
   "source": [
    "re.search -> Verifica se alguma parte de uma string corresponde a uma expressão regular"
   ]
  },
  {
   "cell_type": "markdown",
   "id": "0ad3dcbe",
   "metadata": {},
   "source": [
    "<b> zip e Descompactação de Argumento"
   ]
  },
  {
   "cell_type": "markdown",
   "id": "e4e089da",
   "metadata": {},
   "source": [
    "zip transforma vários iteráveis em um só iterável de tuplas da função correspondente"
   ]
  },
  {
   "cell_type": "code",
   "execution_count": 157,
   "id": "86ea2973",
   "metadata": {},
   "outputs": [
    {
     "data": {
      "text/plain": [
       "[('a', 1), ('b', 2), ('c', 3)]"
      ]
     },
     "execution_count": 157,
     "metadata": {},
     "output_type": "execute_result"
    }
   ],
   "source": [
    "lista1 = [1, 2, 3]\n",
    "lista2 = ['a', 'b', 'c']\n",
    "[par for par in zip(lista2, lista1)]"
   ]
  },
  {
   "cell_type": "code",
   "execution_count": 158,
   "id": "9d0143f6",
   "metadata": {},
   "outputs": [
    {
     "data": {
      "text/plain": [
       "[('a', 1), ('b', 2), ('c', 3)]"
      ]
     },
     "execution_count": 158,
     "metadata": {},
     "output_type": "execute_result"
    }
   ],
   "source": [
    "lista1 = [1, 2, 3, 4, 5, 6, 7]\n",
    "lista2 = ['a', 'b', 'c']\n",
    "[par for par in zip(lista2, lista1)]"
   ]
  },
  {
   "cell_type": "markdown",
   "id": "b17548e0",
   "metadata": {},
   "source": [
    "O asterisco(\\*) executa a descompactação de argumento, que usa elementos de pairs como argumentos individuais para o zip."
   ]
  },
  {
   "cell_type": "code",
   "execution_count": 159,
   "id": "07143722",
   "metadata": {},
   "outputs": [
    {
     "data": {
      "text/plain": [
       "('a', 'b', 'c')"
      ]
     },
     "execution_count": 159,
     "metadata": {},
     "output_type": "execute_result"
    }
   ],
   "source": [
    "letras, numeros = zip(('a', 1), ('b', 2), ('c', 3))\n",
    "letras"
   ]
  },
  {
   "cell_type": "code",
   "execution_count": 160,
   "id": "dc61956d",
   "metadata": {},
   "outputs": [
    {
     "data": {
      "text/plain": [
       "(1, 2, 3)"
      ]
     },
     "execution_count": 160,
     "metadata": {},
     "output_type": "execute_result"
    }
   ],
   "source": [
    "numeros"
   ]
  },
  {
   "cell_type": "markdown",
   "id": "216f19fa",
   "metadata": {},
   "source": [
    "<b>args e kwargs"
   ]
  },
  {
   "cell_type": "markdown",
   "id": "50d70de3",
   "metadata": {},
   "source": [
    "args -> é uma tupla dos seus argumentos sem nome"
   ]
  },
  {
   "cell_type": "markdown",
   "id": "a23665e5",
   "metadata": {},
   "source": [
    "kwargs -> é um dict dos seus argumentos nomeados"
   ]
  },
  {
   "cell_type": "code",
   "execution_count": 162,
   "id": "90436546",
   "metadata": {},
   "outputs": [
    {
     "name": "stdout",
     "output_type": "stream",
     "text": [
      "args = (1, 2)\n",
      "kwargs = {'chave': 'Chave 1', 'chave2': 'Chave 2'}\n"
     ]
    }
   ],
   "source": [
    "def testando(*args, **kwargs):\n",
    "    print('args =', args)\n",
    "    print('kwargs =', kwargs)\n",
    "    \n",
    "testando(1, 2, chave = 'Chave 1', chave2 = 'Chave 2')"
   ]
  },
  {
   "cell_type": "markdown",
   "id": "b922d316",
   "metadata": {},
   "source": [
    "<b>Como Escrever Anotações de Tipo"
   ]
  },
  {
   "cell_type": "markdown",
   "id": "80eba282",
   "metadata": {},
   "source": [
    "O módulo typing é utilizado para definir os tipos"
   ]
  },
  {
   "cell_type": "code",
   "execution_count": 169,
   "id": "c4c7882c",
   "metadata": {},
   "outputs": [
    {
     "name": "stdout",
     "output_type": "stream",
     "text": [
      "24.356\n"
     ]
    }
   ],
   "source": [
    "from typing import List\n",
    "\n",
    "def total(dados: List[float]) -> float:\n",
    "    return sum(dados)\n",
    "\n",
    "teste = [1.4, 3.5, 10.456, 9]\n",
    "print(total(teste))"
   ]
  },
  {
   "cell_type": "code",
   "execution_count": 172,
   "id": "faffe9ae",
   "metadata": {},
   "outputs": [],
   "source": [
    "valores = [] # Nesse caso não dá para saber o tipo da lista"
   ]
  },
  {
   "cell_type": "code",
   "execution_count": 173,
   "id": "312bd883",
   "metadata": {},
   "outputs": [],
   "source": [
    "valores: List[int] = []"
   ]
  }
 ],
 "metadata": {
  "kernelspec": {
   "display_name": "Python 3",
   "language": "python",
   "name": "python3"
  },
  "language_info": {
   "codemirror_mode": {
    "name": "ipython",
    "version": 3
   },
   "file_extension": ".py",
   "mimetype": "text/x-python",
   "name": "python",
   "nbconvert_exporter": "python",
   "pygments_lexer": "ipython3",
   "version": "3.9.9"
  }
 },
 "nbformat": 4,
 "nbformat_minor": 5
}
